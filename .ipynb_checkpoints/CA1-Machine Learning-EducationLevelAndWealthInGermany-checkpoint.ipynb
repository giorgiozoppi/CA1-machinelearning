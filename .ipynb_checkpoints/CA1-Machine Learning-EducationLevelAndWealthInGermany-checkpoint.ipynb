{
 "cells": [
  {
   "cell_type": "code",
   "execution_count": 1,
   "id": "786e00e9",
   "metadata": {},
   "outputs": [
    {
     "name": "stdout",
     "output_type": "stream",
     "text": [
      "Requirement already satisfied: pandas in c:\\users\\giorg\\anaconda3\\lib\\site-packages (2.0.3)\n",
      "Requirement already satisfied: numpy in c:\\users\\giorg\\anaconda3\\lib\\site-packages (1.24.3)\n",
      "Requirement already satisfied: seaborn in c:\\users\\giorg\\anaconda3\\lib\\site-packages (0.12.2)\n",
      "Requirement already satisfied: matplot in c:\\users\\giorg\\anaconda3\\lib\\site-packages (0.1.9)\n",
      "Requirement already satisfied: scikit-learn in c:\\users\\giorg\\anaconda3\\lib\\site-packages (1.3.0)\n",
      "Requirement already satisfied: python-dateutil>=2.8.2 in c:\\users\\giorg\\anaconda3\\lib\\site-packages (from pandas) (2.8.2)\n",
      "Requirement already satisfied: pytz>=2020.1 in c:\\users\\giorg\\anaconda3\\lib\\site-packages (from pandas) (2023.3.post1)\n",
      "Requirement already satisfied: tzdata>=2022.1 in c:\\users\\giorg\\anaconda3\\lib\\site-packages (from pandas) (2023.3)\n",
      "Requirement already satisfied: matplotlib!=3.6.1,>=3.1 in c:\\users\\giorg\\anaconda3\\lib\\site-packages (from seaborn) (3.7.2)\n",
      "Requirement already satisfied: pyloco>=0.0.134 in c:\\users\\giorg\\anaconda3\\lib\\site-packages (from matplot) (0.0.139)\n",
      "Requirement already satisfied: scipy>=1.5.0 in c:\\users\\giorg\\anaconda3\\lib\\site-packages (from scikit-learn) (1.11.1)\n",
      "Requirement already satisfied: joblib>=1.1.1 in c:\\users\\giorg\\anaconda3\\lib\\site-packages (from scikit-learn) (1.2.0)\n",
      "Requirement already satisfied: threadpoolctl>=2.0.0 in c:\\users\\giorg\\anaconda3\\lib\\site-packages (from scikit-learn) (2.2.0)\n",
      "Requirement already satisfied: contourpy>=1.0.1 in c:\\users\\giorg\\anaconda3\\lib\\site-packages (from matplotlib!=3.6.1,>=3.1->seaborn) (1.0.5)\n",
      "Requirement already satisfied: cycler>=0.10 in c:\\users\\giorg\\anaconda3\\lib\\site-packages (from matplotlib!=3.6.1,>=3.1->seaborn) (0.11.0)\n",
      "Requirement already satisfied: fonttools>=4.22.0 in c:\\users\\giorg\\anaconda3\\lib\\site-packages (from matplotlib!=3.6.1,>=3.1->seaborn) (4.25.0)\n",
      "Requirement already satisfied: kiwisolver>=1.0.1 in c:\\users\\giorg\\anaconda3\\lib\\site-packages (from matplotlib!=3.6.1,>=3.1->seaborn) (1.4.4)\n",
      "Requirement already satisfied: packaging>=20.0 in c:\\users\\giorg\\anaconda3\\lib\\site-packages (from matplotlib!=3.6.1,>=3.1->seaborn) (23.1)\n",
      "Requirement already satisfied: pillow>=6.2.0 in c:\\users\\giorg\\anaconda3\\lib\\site-packages (from matplotlib!=3.6.1,>=3.1->seaborn) (9.4.0)\n",
      "Requirement already satisfied: pyparsing<3.1,>=2.3.1 in c:\\users\\giorg\\anaconda3\\lib\\site-packages (from matplotlib!=3.6.1,>=3.1->seaborn) (3.0.9)\n",
      "Requirement already satisfied: ushlex in c:\\users\\giorg\\anaconda3\\lib\\site-packages (from pyloco>=0.0.134->matplot) (0.99.1)\n",
      "Requirement already satisfied: websocket-client in c:\\users\\giorg\\anaconda3\\lib\\site-packages (from pyloco>=0.0.134->matplot) (0.58.0)\n",
      "Requirement already satisfied: twine in c:\\users\\giorg\\anaconda3\\lib\\site-packages (from pyloco>=0.0.134->matplot) (5.0.0)\n",
      "Requirement already satisfied: typing in c:\\users\\giorg\\anaconda3\\lib\\site-packages (from pyloco>=0.0.134->matplot) (3.7.4.3)\n",
      "Requirement already satisfied: SimpleWebSocketServer in c:\\users\\giorg\\anaconda3\\lib\\site-packages (from pyloco>=0.0.134->matplot) (0.1.2)\n",
      "Requirement already satisfied: six>=1.5 in c:\\users\\giorg\\anaconda3\\lib\\site-packages (from python-dateutil>=2.8.2->pandas) (1.16.0)\n",
      "Requirement already satisfied: pkginfo>=1.8.1 in c:\\users\\giorg\\anaconda3\\lib\\site-packages (from twine->pyloco>=0.0.134->matplot) (1.9.6)\n",
      "Requirement already satisfied: readme-renderer>=35.0 in c:\\users\\giorg\\anaconda3\\lib\\site-packages (from twine->pyloco>=0.0.134->matplot) (43.0)\n",
      "Requirement already satisfied: requests>=2.20 in c:\\users\\giorg\\anaconda3\\lib\\site-packages (from twine->pyloco>=0.0.134->matplot) (2.31.0)\n",
      "Requirement already satisfied: requests-toolbelt!=0.9.0,>=0.8.0 in c:\\users\\giorg\\anaconda3\\lib\\site-packages (from twine->pyloco>=0.0.134->matplot) (0.9.1)\n",
      "Requirement already satisfied: urllib3>=1.26.0 in c:\\users\\giorg\\anaconda3\\lib\\site-packages (from twine->pyloco>=0.0.134->matplot) (1.26.16)\n",
      "Requirement already satisfied: importlib-metadata>=3.6 in c:\\users\\giorg\\anaconda3\\lib\\site-packages (from twine->pyloco>=0.0.134->matplot) (6.0.0)\n",
      "Requirement already satisfied: keyring>=15.1 in c:\\users\\giorg\\anaconda3\\lib\\site-packages (from twine->pyloco>=0.0.134->matplot) (23.13.1)\n",
      "Requirement already satisfied: rfc3986>=1.4.0 in c:\\users\\giorg\\anaconda3\\lib\\site-packages (from twine->pyloco>=0.0.134->matplot) (2.0.0)\n",
      "Requirement already satisfied: rich>=12.0.0 in c:\\users\\giorg\\anaconda3\\lib\\site-packages (from twine->pyloco>=0.0.134->matplot) (13.7.1)\n",
      "Requirement already satisfied: zipp>=0.5 in c:\\users\\giorg\\anaconda3\\lib\\site-packages (from importlib-metadata>=3.6->twine->pyloco>=0.0.134->matplot) (3.11.0)\n",
      "Requirement already satisfied: jaraco.classes in c:\\users\\giorg\\anaconda3\\lib\\site-packages (from keyring>=15.1->twine->pyloco>=0.0.134->matplot) (3.2.1)\n",
      "Requirement already satisfied: pywin32-ctypes>=0.2.0 in c:\\users\\giorg\\anaconda3\\lib\\site-packages (from keyring>=15.1->twine->pyloco>=0.0.134->matplot) (0.2.0)\n",
      "Requirement already satisfied: nh3>=0.2.14 in c:\\users\\giorg\\anaconda3\\lib\\site-packages (from readme-renderer>=35.0->twine->pyloco>=0.0.134->matplot) (0.2.15)\n",
      "Requirement already satisfied: docutils>=0.13.1 in c:\\users\\giorg\\anaconda3\\lib\\site-packages (from readme-renderer>=35.0->twine->pyloco>=0.0.134->matplot) (0.18.1)\n",
      "Requirement already satisfied: Pygments>=2.5.1 in c:\\users\\giorg\\anaconda3\\lib\\site-packages (from readme-renderer>=35.0->twine->pyloco>=0.0.134->matplot) (2.15.1)\n",
      "Requirement already satisfied: charset-normalizer<4,>=2 in c:\\users\\giorg\\anaconda3\\lib\\site-packages (from requests>=2.20->twine->pyloco>=0.0.134->matplot) (2.0.4)\n",
      "Requirement already satisfied: idna<4,>=2.5 in c:\\users\\giorg\\anaconda3\\lib\\site-packages (from requests>=2.20->twine->pyloco>=0.0.134->matplot) (3.4)\n",
      "Requirement already satisfied: certifi>=2017.4.17 in c:\\users\\giorg\\anaconda3\\lib\\site-packages (from requests>=2.20->twine->pyloco>=0.0.134->matplot) (2024.2.2)\n",
      "Requirement already satisfied: markdown-it-py>=2.2.0 in c:\\users\\giorg\\anaconda3\\lib\\site-packages (from rich>=12.0.0->twine->pyloco>=0.0.134->matplot) (2.2.0)\n",
      "Requirement already satisfied: mdurl~=0.1 in c:\\users\\giorg\\anaconda3\\lib\\site-packages (from markdown-it-py>=2.2.0->rich>=12.0.0->twine->pyloco>=0.0.134->matplot) (0.1.0)\n",
      "Requirement already satisfied: more-itertools in c:\\users\\giorg\\anaconda3\\lib\\site-packages (from jaraco.classes->keyring>=15.1->twine->pyloco>=0.0.134->matplot) (8.12.0)\n"
     ]
    }
   ],
   "source": [
    "!pip install pandas numpy seaborn matplot scikit-learn"
   ]
  },
  {
   "cell_type": "code",
   "execution_count": 2,
   "id": "104cec3f",
   "metadata": {},
   "outputs": [],
   "source": [
    "import pandas as pd"
   ]
  },
  {
   "cell_type": "code",
   "execution_count": 3,
   "id": "5b507e53",
   "metadata": {},
   "outputs": [],
   "source": [
    "education_income = pd.read_csv('edu_year_incoming.csv')"
   ]
  },
  {
   "cell_type": "code",
   "execution_count": 4,
   "id": "2889c2bf",
   "metadata": {},
   "outputs": [
    {
     "data": {
      "text/html": [
       "<div>\n",
       "<style scoped>\n",
       "    .dataframe tbody tr th:only-of-type {\n",
       "        vertical-align: middle;\n",
       "    }\n",
       "\n",
       "    .dataframe tbody tr th {\n",
       "        vertical-align: top;\n",
       "    }\n",
       "\n",
       "    .dataframe thead th {\n",
       "        text-align: right;\n",
       "    }\n",
       "</style>\n",
       "<table border=\"1\" class=\"dataframe\">\n",
       "  <thead>\n",
       "    <tr style=\"text-align: right;\">\n",
       "      <th></th>\n",
       "      <th>Freq</th>\n",
       "      <th>Indic_Il</th>\n",
       "      <th>Unit</th>\n",
       "      <th>Isced11</th>\n",
       "      <th>Sex</th>\n",
       "      <th>Age</th>\n",
       "      <th>Country</th>\n",
       "      <th>Year</th>\n",
       "      <th>Income</th>\n",
       "    </tr>\n",
       "  </thead>\n",
       "  <tbody>\n",
       "    <tr>\n",
       "      <th>0</th>\n",
       "      <td>A</td>\n",
       "      <td>MED_E</td>\n",
       "      <td>EUR</td>\n",
       "      <td>ED0-2</td>\n",
       "      <td>F</td>\n",
       "      <td>Y18-64</td>\n",
       "      <td>AT</td>\n",
       "      <td>2003</td>\n",
       "      <td>14045</td>\n",
       "    </tr>\n",
       "    <tr>\n",
       "      <th>1</th>\n",
       "      <td>A</td>\n",
       "      <td>MED_E</td>\n",
       "      <td>EUR</td>\n",
       "      <td>ED0-2</td>\n",
       "      <td>F</td>\n",
       "      <td>Y18-64</td>\n",
       "      <td>AT</td>\n",
       "      <td>2004</td>\n",
       "      <td>15190</td>\n",
       "    </tr>\n",
       "    <tr>\n",
       "      <th>2</th>\n",
       "      <td>A</td>\n",
       "      <td>MED_E</td>\n",
       "      <td>EUR</td>\n",
       "      <td>ED0-2</td>\n",
       "      <td>F</td>\n",
       "      <td>Y18-64</td>\n",
       "      <td>AT</td>\n",
       "      <td>2005</td>\n",
       "      <td>15258</td>\n",
       "    </tr>\n",
       "    <tr>\n",
       "      <th>3</th>\n",
       "      <td>A</td>\n",
       "      <td>MED_E</td>\n",
       "      <td>EUR</td>\n",
       "      <td>ED0-2</td>\n",
       "      <td>F</td>\n",
       "      <td>Y18-64</td>\n",
       "      <td>AT</td>\n",
       "      <td>2006</td>\n",
       "      <td>15376</td>\n",
       "    </tr>\n",
       "    <tr>\n",
       "      <th>4</th>\n",
       "      <td>A</td>\n",
       "      <td>MED_E</td>\n",
       "      <td>EUR</td>\n",
       "      <td>ED0-2</td>\n",
       "      <td>F</td>\n",
       "      <td>Y18-64</td>\n",
       "      <td>AT</td>\n",
       "      <td>2007</td>\n",
       "      <td>15552</td>\n",
       "    </tr>\n",
       "  </tbody>\n",
       "</table>\n",
       "</div>"
      ],
      "text/plain": [
       "  Freq Indic_Il Unit Isced11 Sex     Age Country  Year Income\n",
       "0    A    MED_E  EUR   ED0-2   F  Y18-64      AT  2003  14045\n",
       "1    A    MED_E  EUR   ED0-2   F  Y18-64      AT  2004  15190\n",
       "2    A    MED_E  EUR   ED0-2   F  Y18-64      AT  2005  15258\n",
       "3    A    MED_E  EUR   ED0-2   F  Y18-64      AT  2006  15376\n",
       "4    A    MED_E  EUR   ED0-2   F  Y18-64      AT  2007  15552"
      ]
     },
     "execution_count": 4,
     "metadata": {},
     "output_type": "execute_result"
    }
   ],
   "source": [
    "education_income.head()"
   ]
  },
  {
   "cell_type": "markdown",
   "id": "9449d460",
   "metadata": {},
   "source": [
    "##### No need of frequency\n",
    "\n",
    "Also we need just european union country codes.\n",
    "Country  Code\n",
    "- Belgium\t(BE) \n",
    "- Greece\t(EL) \t\n",
    "- Lithuania(LT)\t\n",
    "- Portugal(PT)\n",
    "- Bulgaria(BG) \n",
    "- Spain\t(ES) \n",
    "- Luxembourg(LU)\n",
    "- Romania(RO) \n",
    "- Czechia(CZ)\t\n",
    "- France(FR)\t\n",
    "- Hungary(HU)\tSlovenia(SI)\n",
    "--------------------------------------------------------------------\n",
    "Denmark\t(DK)\tCroatia\t(HR)\tMalta\t(MT)\tSlovakia(SK)\n",
    "Germany\t(DE)\tItaly\t(IT)\tNetherlands(NL)\tFinland(FI)\n",
    "--------------------------------------------------------------------\n",
    "Estonia\t(EE)\tCyprus\t(CY)\tAustria\t(AT)\tSweden(SE)\n",
    "Ireland\t(IE)\tLatvia\t(LV)\tPoland\t(PL)\n",
    "--------------------------------------------------------------------"
   ]
  },
  {
   "cell_type": "code",
   "execution_count": 5,
   "id": "5b252cc0",
   "metadata": {},
   "outputs": [],
   "source": [
    "# education_income.drop(columns=['Freq'], inplace=True)\n",
    "valid_country_codes = ['BE','BG', 'CZ', 'DK', 'DE', 'EE', 'IE', 'EL', 'ES','FR','HR','IT','CY','LV','LT','LU','HU','MT','NL','AT','PL','PT','RO','SI','SK','FI','SE']\n",
    "education_income = education_income[education_income['Country'].isin(valid_country_codes)]"
   ]
  },
  {
   "cell_type": "code",
   "execution_count": 6,
   "id": "019766f9",
   "metadata": {
    "scrolled": true
   },
   "outputs": [
    {
     "data": {
      "text/html": [
       "<div>\n",
       "<style scoped>\n",
       "    .dataframe tbody tr th:only-of-type {\n",
       "        vertical-align: middle;\n",
       "    }\n",
       "\n",
       "    .dataframe tbody tr th {\n",
       "        vertical-align: top;\n",
       "    }\n",
       "\n",
       "    .dataframe thead th {\n",
       "        text-align: right;\n",
       "    }\n",
       "</style>\n",
       "<table border=\"1\" class=\"dataframe\">\n",
       "  <thead>\n",
       "    <tr style=\"text-align: right;\">\n",
       "      <th></th>\n",
       "      <th>Indic_Il</th>\n",
       "      <th>Unit</th>\n",
       "      <th>Isced11</th>\n",
       "      <th>Sex</th>\n",
       "      <th>Age</th>\n",
       "      <th>Country</th>\n",
       "      <th>Year</th>\n",
       "      <th>Income</th>\n",
       "    </tr>\n",
       "  </thead>\n",
       "  <tbody>\n",
       "    <tr>\n",
       "      <th>0</th>\n",
       "      <td>MED_E</td>\n",
       "      <td>EUR</td>\n",
       "      <td>ED0-2</td>\n",
       "      <td>F</td>\n",
       "      <td>Y18-64</td>\n",
       "      <td>AT</td>\n",
       "      <td>2003</td>\n",
       "      <td>14045</td>\n",
       "    </tr>\n",
       "    <tr>\n",
       "      <th>1</th>\n",
       "      <td>MED_E</td>\n",
       "      <td>EUR</td>\n",
       "      <td>ED0-2</td>\n",
       "      <td>F</td>\n",
       "      <td>Y18-64</td>\n",
       "      <td>AT</td>\n",
       "      <td>2004</td>\n",
       "      <td>15190</td>\n",
       "    </tr>\n",
       "    <tr>\n",
       "      <th>2</th>\n",
       "      <td>MED_E</td>\n",
       "      <td>EUR</td>\n",
       "      <td>ED0-2</td>\n",
       "      <td>F</td>\n",
       "      <td>Y18-64</td>\n",
       "      <td>AT</td>\n",
       "      <td>2005</td>\n",
       "      <td>15258</td>\n",
       "    </tr>\n",
       "    <tr>\n",
       "      <th>3</th>\n",
       "      <td>MED_E</td>\n",
       "      <td>EUR</td>\n",
       "      <td>ED0-2</td>\n",
       "      <td>F</td>\n",
       "      <td>Y18-64</td>\n",
       "      <td>AT</td>\n",
       "      <td>2006</td>\n",
       "      <td>15376</td>\n",
       "    </tr>\n",
       "    <tr>\n",
       "      <th>4</th>\n",
       "      <td>MED_E</td>\n",
       "      <td>EUR</td>\n",
       "      <td>ED0-2</td>\n",
       "      <td>F</td>\n",
       "      <td>Y18-64</td>\n",
       "      <td>AT</td>\n",
       "      <td>2007</td>\n",
       "      <td>15552</td>\n",
       "    </tr>\n",
       "  </tbody>\n",
       "</table>\n",
       "</div>"
      ],
      "text/plain": [
       "  Indic_Il Unit Isced11 Sex     Age Country  Year Income\n",
       "0    MED_E  EUR   ED0-2   F  Y18-64      AT  2003  14045\n",
       "1    MED_E  EUR   ED0-2   F  Y18-64      AT  2004  15190\n",
       "2    MED_E  EUR   ED0-2   F  Y18-64      AT  2005  15258\n",
       "3    MED_E  EUR   ED0-2   F  Y18-64      AT  2006  15376\n",
       "4    MED_E  EUR   ED0-2   F  Y18-64      AT  2007  15552"
      ]
     },
     "execution_count": 6,
     "metadata": {},
     "output_type": "execute_result"
    }
   ],
   "source": [
    "education_income['Income'] = education_income['Income'].str.replace(r'[a-z]', '', regex=True)\n",
    "education_income.drop(columns=['Freq'], inplace=True)\n",
    "education_income.head()"
   ]
  },
  {
   "cell_type": "code",
   "execution_count": 7,
   "id": "71a536d6",
   "metadata": {},
   "outputs": [
    {
     "name": "stdout",
     "output_type": "stream",
     "text": [
      "Number of rows: 91854\n"
     ]
    }
   ],
   "source": [
    "num_rows = education_income.shape[0]\n",
    "print(\"Number of rows:\", num_rows)"
   ]
  },
  {
   "cell_type": "markdown",
   "id": "7bbd9dc0",
   "metadata": {
    "scrolled": true
   },
   "source": [
    "We want just from 2015 and just the median income. the data is sorted in ascending order. It represents the income value below which 50% of the data falls."
   ]
  },
  {
   "cell_type": "code",
   "execution_count": 8,
   "id": "983c9865",
   "metadata": {
    "scrolled": true
   },
   "outputs": [
    {
     "name": "stdout",
     "output_type": "stream",
     "text": [
      "Number of rows: 17496\n"
     ]
    },
    {
     "data": {
      "text/html": [
       "<div>\n",
       "<style scoped>\n",
       "    .dataframe tbody tr th:only-of-type {\n",
       "        vertical-align: middle;\n",
       "    }\n",
       "\n",
       "    .dataframe tbody tr th {\n",
       "        vertical-align: top;\n",
       "    }\n",
       "\n",
       "    .dataframe thead th {\n",
       "        text-align: right;\n",
       "    }\n",
       "</style>\n",
       "<table border=\"1\" class=\"dataframe\">\n",
       "  <thead>\n",
       "    <tr style=\"text-align: right;\">\n",
       "      <th></th>\n",
       "      <th>Indic_Il</th>\n",
       "      <th>Unit</th>\n",
       "      <th>Isced11</th>\n",
       "      <th>Sex</th>\n",
       "      <th>Age</th>\n",
       "      <th>Country</th>\n",
       "      <th>Year</th>\n",
       "      <th>Income</th>\n",
       "    </tr>\n",
       "  </thead>\n",
       "  <tbody>\n",
       "    <tr>\n",
       "      <th>4360</th>\n",
       "      <td>MED_E</td>\n",
       "      <td>EUR</td>\n",
       "      <td>ED0-2</td>\n",
       "      <td>M</td>\n",
       "      <td>Y_GE18</td>\n",
       "      <td>LU</td>\n",
       "      <td>2016</td>\n",
       "      <td>27639</td>\n",
       "    </tr>\n",
       "    <tr>\n",
       "      <th>4361</th>\n",
       "      <td>MED_E</td>\n",
       "      <td>EUR</td>\n",
       "      <td>ED0-2</td>\n",
       "      <td>M</td>\n",
       "      <td>Y_GE18</td>\n",
       "      <td>LU</td>\n",
       "      <td>2017</td>\n",
       "      <td>30571</td>\n",
       "    </tr>\n",
       "    <tr>\n",
       "      <th>4362</th>\n",
       "      <td>MED_E</td>\n",
       "      <td>EUR</td>\n",
       "      <td>ED0-2</td>\n",
       "      <td>M</td>\n",
       "      <td>Y_GE18</td>\n",
       "      <td>LU</td>\n",
       "      <td>2018</td>\n",
       "      <td>30051</td>\n",
       "    </tr>\n",
       "    <tr>\n",
       "      <th>4363</th>\n",
       "      <td>MED_E</td>\n",
       "      <td>EUR</td>\n",
       "      <td>ED0-2</td>\n",
       "      <td>M</td>\n",
       "      <td>Y_GE18</td>\n",
       "      <td>LU</td>\n",
       "      <td>2019</td>\n",
       "      <td>30571</td>\n",
       "    </tr>\n",
       "    <tr>\n",
       "      <th>4364</th>\n",
       "      <td>MED_E</td>\n",
       "      <td>EUR</td>\n",
       "      <td>ED0-2</td>\n",
       "      <td>M</td>\n",
       "      <td>Y_GE18</td>\n",
       "      <td>LU</td>\n",
       "      <td>2020</td>\n",
       "      <td>29656</td>\n",
       "    </tr>\n",
       "    <tr>\n",
       "      <th>...</th>\n",
       "      <td>...</td>\n",
       "      <td>...</td>\n",
       "      <td>...</td>\n",
       "      <td>...</td>\n",
       "      <td>...</td>\n",
       "      <td>...</td>\n",
       "      <td>...</td>\n",
       "      <td>...</td>\n",
       "    </tr>\n",
       "    <tr>\n",
       "      <th>5224</th>\n",
       "      <td>MED_E</td>\n",
       "      <td>EUR</td>\n",
       "      <td>ED0-2</td>\n",
       "      <td>M</td>\n",
       "      <td>Y_GE65</td>\n",
       "      <td>IE</td>\n",
       "      <td>2019</td>\n",
       "      <td>19614</td>\n",
       "    </tr>\n",
       "    <tr>\n",
       "      <th>5225</th>\n",
       "      <td>MED_E</td>\n",
       "      <td>EUR</td>\n",
       "      <td>ED0-2</td>\n",
       "      <td>M</td>\n",
       "      <td>Y_GE65</td>\n",
       "      <td>IE</td>\n",
       "      <td>2020</td>\n",
       "      <td>21142</td>\n",
       "    </tr>\n",
       "    <tr>\n",
       "      <th>5226</th>\n",
       "      <td>MED_E</td>\n",
       "      <td>EUR</td>\n",
       "      <td>ED0-2</td>\n",
       "      <td>M</td>\n",
       "      <td>Y_GE65</td>\n",
       "      <td>IE</td>\n",
       "      <td>2021</td>\n",
       "      <td>21645</td>\n",
       "    </tr>\n",
       "    <tr>\n",
       "      <th>5227</th>\n",
       "      <td>MED_E</td>\n",
       "      <td>EUR</td>\n",
       "      <td>ED0-2</td>\n",
       "      <td>M</td>\n",
       "      <td>Y_GE65</td>\n",
       "      <td>IE</td>\n",
       "      <td>2022</td>\n",
       "      <td>21373</td>\n",
       "    </tr>\n",
       "    <tr>\n",
       "      <th>5228</th>\n",
       "      <td>MED_E</td>\n",
       "      <td>EUR</td>\n",
       "      <td>ED0-2</td>\n",
       "      <td>M</td>\n",
       "      <td>Y_GE65</td>\n",
       "      <td>IE</td>\n",
       "      <td>2023</td>\n",
       "      <td>:</td>\n",
       "    </tr>\n",
       "  </tbody>\n",
       "</table>\n",
       "<p>200 rows × 8 columns</p>\n",
       "</div>"
      ],
      "text/plain": [
       "     Indic_Il Unit Isced11 Sex     Age Country  Year  Income\n",
       "4360    MED_E  EUR   ED0-2   M  Y_GE18      LU  2016  27639 \n",
       "4361    MED_E  EUR   ED0-2   M  Y_GE18      LU  2017   30571\n",
       "4362    MED_E  EUR   ED0-2   M  Y_GE18      LU  2018   30051\n",
       "4363    MED_E  EUR   ED0-2   M  Y_GE18      LU  2019   30571\n",
       "4364    MED_E  EUR   ED0-2   M  Y_GE18      LU  2020  29656 \n",
       "...       ...  ...     ...  ..     ...     ...   ...     ...\n",
       "5224    MED_E  EUR   ED0-2   M  Y_GE65      IE  2019   19614\n",
       "5225    MED_E  EUR   ED0-2   M  Y_GE65      IE  2020  21142 \n",
       "5226    MED_E  EUR   ED0-2   M  Y_GE65      IE  2021   21645\n",
       "5227    MED_E  EUR   ED0-2   M  Y_GE65      IE  2022   21373\n",
       "5228    MED_E  EUR   ED0-2   M  Y_GE65      IE  2023       :\n",
       "\n",
       "[200 rows x 8 columns]"
      ]
     },
     "execution_count": 8,
     "metadata": {},
     "output_type": "execute_result"
    }
   ],
   "source": [
    "education_income['Year'] = education_income['Year'].astype(int)\n",
    "education_income = education_income[(education_income['Year'] > 2015) & (education_income['Indic_Il'] == 'MED_E')]\n",
    "num_rows = education_income.shape[0]\n",
    "print(\"Number of rows:\", num_rows)\n",
    "education_income[1000:2000].head(200)"
   ]
  },
  {
   "cell_type": "markdown",
   "id": "2cfb0b11",
   "metadata": {},
   "source": [
    "#### Now we want explore the only the ag remove Y_GE18 since it is included we keep Y_GE65 since education might influece pension. Also we want to be sure to avoid total in sex and use just M for male and F for female, the original dfata set has total. Always we print the number of rows."
   ]
  },
  {
   "cell_type": "code",
   "execution_count": 9,
   "id": "8f24766f",
   "metadata": {},
   "outputs": [],
   "source": [
    "valid_ages = ['Y_GE65', 'Y18-64']\n",
    "valid_sex = ['M','F']\n",
    "filtered_education_income = education_income[(education_income['Age'].isin(valid_ages)) & education_income['Sex'].isin(valid_sex)]\n",
    "# Reset the index to ensure it matches the length of the DataFrame\n",
    "filtered_education_income.reset_index(drop=True, inplace=True)"
   ]
  },
  {
   "cell_type": "code",
   "execution_count": 10,
   "id": "252303dd",
   "metadata": {},
   "outputs": [
    {
     "name": "stdout",
     "output_type": "stream",
     "text": [
      "Number of rows: 7776\n"
     ]
    },
    {
     "data": {
      "text/html": [
       "<div>\n",
       "<style scoped>\n",
       "    .dataframe tbody tr th:only-of-type {\n",
       "        vertical-align: middle;\n",
       "    }\n",
       "\n",
       "    .dataframe tbody tr th {\n",
       "        vertical-align: top;\n",
       "    }\n",
       "\n",
       "    .dataframe thead th {\n",
       "        text-align: right;\n",
       "    }\n",
       "</style>\n",
       "<table border=\"1\" class=\"dataframe\">\n",
       "  <thead>\n",
       "    <tr style=\"text-align: right;\">\n",
       "      <th></th>\n",
       "      <th>Indic_Il</th>\n",
       "      <th>Unit</th>\n",
       "      <th>Isced11</th>\n",
       "      <th>Sex</th>\n",
       "      <th>Age</th>\n",
       "      <th>Country</th>\n",
       "      <th>Year</th>\n",
       "      <th>Income</th>\n",
       "    </tr>\n",
       "  </thead>\n",
       "  <tbody>\n",
       "    <tr>\n",
       "      <th>0</th>\n",
       "      <td>MED_E</td>\n",
       "      <td>EUR</td>\n",
       "      <td>ED0-2</td>\n",
       "      <td>F</td>\n",
       "      <td>Y18-64</td>\n",
       "      <td>AT</td>\n",
       "      <td>2016</td>\n",
       "      <td>19660</td>\n",
       "    </tr>\n",
       "    <tr>\n",
       "      <th>1</th>\n",
       "      <td>MED_E</td>\n",
       "      <td>EUR</td>\n",
       "      <td>ED0-2</td>\n",
       "      <td>F</td>\n",
       "      <td>Y18-64</td>\n",
       "      <td>AT</td>\n",
       "      <td>2017</td>\n",
       "      <td>20751</td>\n",
       "    </tr>\n",
       "    <tr>\n",
       "      <th>2</th>\n",
       "      <td>MED_E</td>\n",
       "      <td>EUR</td>\n",
       "      <td>ED0-2</td>\n",
       "      <td>F</td>\n",
       "      <td>Y18-64</td>\n",
       "      <td>AT</td>\n",
       "      <td>2018</td>\n",
       "      <td>21544</td>\n",
       "    </tr>\n",
       "    <tr>\n",
       "      <th>3</th>\n",
       "      <td>MED_E</td>\n",
       "      <td>EUR</td>\n",
       "      <td>ED0-2</td>\n",
       "      <td>F</td>\n",
       "      <td>Y18-64</td>\n",
       "      <td>AT</td>\n",
       "      <td>2019</td>\n",
       "      <td>21989</td>\n",
       "    </tr>\n",
       "    <tr>\n",
       "      <th>4</th>\n",
       "      <td>MED_E</td>\n",
       "      <td>EUR</td>\n",
       "      <td>ED0-2</td>\n",
       "      <td>F</td>\n",
       "      <td>Y18-64</td>\n",
       "      <td>AT</td>\n",
       "      <td>2020</td>\n",
       "      <td>21142</td>\n",
       "    </tr>\n",
       "    <tr>\n",
       "      <th>5</th>\n",
       "      <td>MED_E</td>\n",
       "      <td>EUR</td>\n",
       "      <td>ED0-2</td>\n",
       "      <td>F</td>\n",
       "      <td>Y18-64</td>\n",
       "      <td>AT</td>\n",
       "      <td>2021</td>\n",
       "      <td>21311</td>\n",
       "    </tr>\n",
       "    <tr>\n",
       "      <th>6</th>\n",
       "      <td>MED_E</td>\n",
       "      <td>EUR</td>\n",
       "      <td>ED0-2</td>\n",
       "      <td>F</td>\n",
       "      <td>Y18-64</td>\n",
       "      <td>AT</td>\n",
       "      <td>2022</td>\n",
       "      <td>21042</td>\n",
       "    </tr>\n",
       "    <tr>\n",
       "      <th>7</th>\n",
       "      <td>MED_E</td>\n",
       "      <td>EUR</td>\n",
       "      <td>ED0-2</td>\n",
       "      <td>F</td>\n",
       "      <td>Y18-64</td>\n",
       "      <td>AT</td>\n",
       "      <td>2023</td>\n",
       "      <td>24710</td>\n",
       "    </tr>\n",
       "    <tr>\n",
       "      <th>8</th>\n",
       "      <td>MED_E</td>\n",
       "      <td>EUR</td>\n",
       "      <td>ED0-2</td>\n",
       "      <td>F</td>\n",
       "      <td>Y18-64</td>\n",
       "      <td>BE</td>\n",
       "      <td>2016</td>\n",
       "      <td>15892</td>\n",
       "    </tr>\n",
       "    <tr>\n",
       "      <th>9</th>\n",
       "      <td>MED_E</td>\n",
       "      <td>EUR</td>\n",
       "      <td>ED0-2</td>\n",
       "      <td>F</td>\n",
       "      <td>Y18-64</td>\n",
       "      <td>BE</td>\n",
       "      <td>2017</td>\n",
       "      <td>16260</td>\n",
       "    </tr>\n",
       "  </tbody>\n",
       "</table>\n",
       "</div>"
      ],
      "text/plain": [
       "  Indic_Il Unit Isced11 Sex     Age Country  Year Income\n",
       "0    MED_E  EUR   ED0-2   F  Y18-64      AT  2016  19660\n",
       "1    MED_E  EUR   ED0-2   F  Y18-64      AT  2017  20751\n",
       "2    MED_E  EUR   ED0-2   F  Y18-64      AT  2018  21544\n",
       "3    MED_E  EUR   ED0-2   F  Y18-64      AT  2019  21989\n",
       "4    MED_E  EUR   ED0-2   F  Y18-64      AT  2020  21142\n",
       "5    MED_E  EUR   ED0-2   F  Y18-64      AT  2021  21311\n",
       "6    MED_E  EUR   ED0-2   F  Y18-64      AT  2022  21042\n",
       "7    MED_E  EUR   ED0-2   F  Y18-64      AT  2023  24710\n",
       "8    MED_E  EUR   ED0-2   F  Y18-64      BE  2016  15892\n",
       "9    MED_E  EUR   ED0-2   F  Y18-64      BE  2017  16260"
      ]
     },
     "execution_count": 10,
     "metadata": {},
     "output_type": "execute_result"
    }
   ],
   "source": [
    "num_rows = filtered_education_income.shape[0]\n",
    "print(\"Number of rows:\", num_rows)\n",
    "filtered_education_income.head(10)"
   ]
  },
  {
   "cell_type": "markdown",
   "id": "cefedb0b",
   "metadata": {},
   "source": [
    "With the right filter, the number of rows reduced of 10%. MED_E indicate the median, we need to see if the mean is still there and the drop the MED_E feature. We will assume always the median. We need also to enrich our dataset. I would like to see how is dependent the country wealth and it is relation on education and income. Let's if the mean is still there."
   ]
  },
  {
   "cell_type": "code",
   "execution_count": 11,
   "id": "09847fe6",
   "metadata": {},
   "outputs": [
    {
     "name": "stdout",
     "output_type": "stream",
     "text": [
      "0\n"
     ]
    }
   ],
   "source": [
    "test = filtered_education_income[filtered_education_income['Indic_Il'] != 'MED_E']\n",
    "num_row_not_median = test.shape[0]\n",
    "print(num_row_not_median)"
   ]
  },
  {
   "cell_type": "markdown",
   "id": "8f6e8743",
   "metadata": {},
   "source": [
    "Cool, so now we can drop that column. Also we check that unit is only EUR and if there not euro income we drop the rows since it is duplicate data."
   ]
  },
  {
   "cell_type": "code",
   "execution_count": 12,
   "id": "81443f30",
   "metadata": {
    "scrolled": true
   },
   "outputs": [
    {
     "name": "stdout",
     "output_type": "stream",
     "text": [
      "Number of rows: 2592\n"
     ]
    }
   ],
   "source": [
    "test = filtered_education_income[filtered_education_income['Unit'] != 'EUR']\n",
    "filtered_education_income = filtered_education_income[filtered_education_income['Unit'] == 'EUR']\n",
    "filtered_education_income.drop(columns=['Indic_Il', 'Unit'], inplace=True)\n",
    "filtered_education_income.reset_index(drop=True, inplace=True)\n",
    "filtered_education_income.head(5)\n",
    "num_rows = filtered_education_income.shape[0]\n",
    "print(f'Number of rows: {num_rows}')"
   ]
  },
  {
   "cell_type": "markdown",
   "id": "34397bb1",
   "metadata": {},
   "source": [
    "Now we have cleaned the original dataset and we are ready to enrich per year and per country income per year. We need access to \n",
    "world bank or OCSDE data."
   ]
  },
  {
   "cell_type": "code",
   "execution_count": 13,
   "id": "5ac35cc3",
   "metadata": {},
   "outputs": [
    {
     "data": {
      "text/html": [
       "<div>\n",
       "<style scoped>\n",
       "    .dataframe tbody tr th:only-of-type {\n",
       "        vertical-align: middle;\n",
       "    }\n",
       "\n",
       "    .dataframe tbody tr th {\n",
       "        vertical-align: top;\n",
       "    }\n",
       "\n",
       "    .dataframe thead th {\n",
       "        text-align: right;\n",
       "    }\n",
       "</style>\n",
       "<table border=\"1\" class=\"dataframe\">\n",
       "  <thead>\n",
       "    <tr style=\"text-align: right;\">\n",
       "      <th></th>\n",
       "      <th>Country</th>\n",
       "      <th>Year</th>\n",
       "      <th>Gdp_Capita</th>\n",
       "    </tr>\n",
       "  </thead>\n",
       "  <tbody>\n",
       "    <tr>\n",
       "      <th>0</th>\n",
       "      <td>AT</td>\n",
       "      <td>2023</td>\n",
       "      <td>NaN</td>\n",
       "    </tr>\n",
       "    <tr>\n",
       "      <th>1</th>\n",
       "      <td>AT</td>\n",
       "      <td>2022</td>\n",
       "      <td>52084.681195</td>\n",
       "    </tr>\n",
       "    <tr>\n",
       "      <th>2</th>\n",
       "      <td>AT</td>\n",
       "      <td>2021</td>\n",
       "      <td>53517.890451</td>\n",
       "    </tr>\n",
       "    <tr>\n",
       "      <th>3</th>\n",
       "      <td>AT</td>\n",
       "      <td>2020</td>\n",
       "      <td>48789.497850</td>\n",
       "    </tr>\n",
       "    <tr>\n",
       "      <th>4</th>\n",
       "      <td>AT</td>\n",
       "      <td>2019</td>\n",
       "      <td>50067.585727</td>\n",
       "    </tr>\n",
       "    <tr>\n",
       "      <th>5</th>\n",
       "      <td>AT</td>\n",
       "      <td>2018</td>\n",
       "      <td>51466.556563</td>\n",
       "    </tr>\n",
       "    <tr>\n",
       "      <th>6</th>\n",
       "      <td>AT</td>\n",
       "      <td>2017</td>\n",
       "      <td>47429.158456</td>\n",
       "    </tr>\n",
       "    <tr>\n",
       "      <th>7</th>\n",
       "      <td>AT</td>\n",
       "      <td>2016</td>\n",
       "      <td>45307.587862</td>\n",
       "    </tr>\n",
       "    <tr>\n",
       "      <th>8</th>\n",
       "      <td>AT</td>\n",
       "      <td>2015</td>\n",
       "      <td>44195.817595</td>\n",
       "    </tr>\n",
       "    <tr>\n",
       "      <th>9</th>\n",
       "      <td>BE</td>\n",
       "      <td>2023</td>\n",
       "      <td>NaN</td>\n",
       "    </tr>\n",
       "  </tbody>\n",
       "</table>\n",
       "</div>"
      ],
      "text/plain": [
       "  Country  Year    Gdp_Capita\n",
       "0      AT  2023           NaN\n",
       "1      AT  2022  52084.681195\n",
       "2      AT  2021  53517.890451\n",
       "3      AT  2020  48789.497850\n",
       "4      AT  2019  50067.585727\n",
       "5      AT  2018  51466.556563\n",
       "6      AT  2017  47429.158456\n",
       "7      AT  2016  45307.587862\n",
       "8      AT  2015  44195.817595\n",
       "9      BE  2023           NaN"
      ]
     },
     "execution_count": 13,
     "metadata": {},
     "output_type": "execute_result"
    }
   ],
   "source": [
    "import requests\n",
    "import pandas as pd\n",
    "\n",
    "# Base URL for the World Bank API\n",
    "base_url = \"http://api.worldbank.org/v2\"\n",
    "\n",
    "# Define the parameters for the query\n",
    "params = {\n",
    "    \"format\": \"json\",\n",
    "    \"date\": \"2015:2023\",\n",
    "    \"per_page\": \"500\"\n",
    "}\n",
    "\n",
    "# Indicator for GDP per capita (current US$)\n",
    "indicator = \"NY.GDP.PCAP.CD\"\n",
    "eu_country_codes = ['BE','BG', 'CZ', 'DK', 'DE', 'EE', 'IE', 'GR', 'ES','FR','HR','IT','CY','LV','LT','LU','HU','MT','NL','AT','PL','PT','RO','SI','SK','FI','SE']\n",
    "# Query for each EU coutries.\n",
    "countries = \";\".join(eu_country_codes)\n",
    "# Complete URL\n",
    "url = f\"{base_url}/country/{countries}/indicator/{indicator}\"\n",
    "\n",
    "# Make the request\n",
    "response = requests.get(url, params=params)\n",
    "# Check if the request was successful\n",
    "df = None\n",
    "if response.status_code == 200:\n",
    "    # Load data into a dataframe for better visualization and manipulation\n",
    "    data = response.json()\n",
    "    df = pd.json_normalize(data[1])  # Data is in the second element of the list\n",
    "else:\n",
    "    print(\"Failed to retrieve data\")\n",
    "\n",
    "gdp_per_capita = df[['country.id', 'date', 'value']]\n",
    "gdp_per_capita = gdp_per_capita.rename(columns={'value': 'Gdp_Capita', 'country.id': 'Country', 'date':'Year'})\n",
    "gdp_per_capita.head(10)\n"
   ]
  },
  {
   "cell_type": "markdown",
   "id": "cdb42f99",
   "metadata": {},
   "source": [
    "Now we have the gdp per capita from world bank but unfortunately we don't have for each country the year 2023 and we need to add to the dataset also the GDP per capita is in dollars. We assume that 1 dollar is 0.93 euros. This might not been true each year but give an uniform scaling. Looking in the internet we have the following GPD per capita in 2023."
   ]
  },
  {
   "cell_type": "code",
   "execution_count": 14,
   "id": "c1752889",
   "metadata": {},
   "outputs": [
    {
     "data": {
      "text/html": [
       "<div>\n",
       "<style scoped>\n",
       "    .dataframe tbody tr th:only-of-type {\n",
       "        vertical-align: middle;\n",
       "    }\n",
       "\n",
       "    .dataframe tbody tr th {\n",
       "        vertical-align: top;\n",
       "    }\n",
       "\n",
       "    .dataframe thead th {\n",
       "        text-align: right;\n",
       "    }\n",
       "</style>\n",
       "<table border=\"1\" class=\"dataframe\">\n",
       "  <thead>\n",
       "    <tr style=\"text-align: right;\">\n",
       "      <th></th>\n",
       "      <th>Country</th>\n",
       "      <th>Year</th>\n",
       "      <th>Gdp_Capita</th>\n",
       "    </tr>\n",
       "  </thead>\n",
       "  <tbody>\n",
       "    <tr>\n",
       "      <th>0</th>\n",
       "      <td>AT</td>\n",
       "      <td>2023</td>\n",
       "      <td>60006.670000</td>\n",
       "    </tr>\n",
       "    <tr>\n",
       "      <th>1</th>\n",
       "      <td>AT</td>\n",
       "      <td>2022</td>\n",
       "      <td>55730.608879</td>\n",
       "    </tr>\n",
       "    <tr>\n",
       "      <th>2</th>\n",
       "      <td>AT</td>\n",
       "      <td>2021</td>\n",
       "      <td>57264.142783</td>\n",
       "    </tr>\n",
       "    <tr>\n",
       "      <th>3</th>\n",
       "      <td>AT</td>\n",
       "      <td>2020</td>\n",
       "      <td>52204.762699</td>\n",
       "    </tr>\n",
       "    <tr>\n",
       "      <th>4</th>\n",
       "      <td>AT</td>\n",
       "      <td>2019</td>\n",
       "      <td>53572.316727</td>\n",
       "    </tr>\n",
       "  </tbody>\n",
       "</table>\n",
       "</div>"
      ],
      "text/plain": [
       "  Country  Year    Gdp_Capita\n",
       "0      AT  2023  60006.670000\n",
       "1      AT  2022  55730.608879\n",
       "2      AT  2021  57264.142783\n",
       "3      AT  2020  52204.762699\n",
       "4      AT  2019  53572.316727"
      ]
     },
     "execution_count": 14,
     "metadata": {},
     "output_type": "execute_result"
    }
   ],
   "source": [
    "gdp_dollars_year_2023 = {'BE': 49926,\n",
    "                         'BG': 15755,\n",
    "                         'CZ': 30599,\n",
    "                         'DK': 68299,\n",
    "                         'DE': 52800,\n",
    "                         'EE': 32460, \n",
    "                         'IE': 103511,\n",
    "                         'GR': 22805, \n",
    "                         'ES': 33090,\n",
    "                         'FR':46315,\n",
    "                         'HR': 22146,\n",
    "                         'IT': 38221,\n",
    "                         'CY': 34956,\n",
    "                         'LV': 23153,\n",
    "                         'LT': 28094,\n",
    "                         'LU': 129810,\n",
    "                         'HU': 22146,\n",
    "                         'MT': 38673,\n",
    "                         'NL': 57800,\n",
    "                         'AT': 56081,\n",
    "                         'PL': 21995,\n",
    "                         'PT': 27969,\n",
    "                         'RO': 19530,\n",
    "                         'SI': 34030,\n",
    "                         'SK': 25930,\n",
    "                         'FI': 55130,\n",
    "                         'SE': 58530}\n",
    "countries = gdp_per_capita['Country']\n",
    "unique_countries_codes = gdp_per_capita['Country'].unique()\n",
    "gdp_dollars_year = {key: gdp_dollars_year_2023[key] for key in sorted(gdp_dollars_year_2023)}\n",
    "# Only update the 'gdp_per_capita' for 2023 where it is NaN\n",
    "mask = (gdp_per_capita['Year'] == '2023')\n",
    "gdp_per_capita.loc[mask, 'Gdp_Capita'] = gdp_per_capita.loc[mask, 'Country'].map(gdp_dollars_year)\n",
    "gdp_per_capita.head()\n",
    "# we modify all in euro\n",
    "gdp_per_capita['Gdp_Capita'] = gdp_per_capita['Gdp_Capita'] * 1.07 \n",
    "gdp_per_capita.head()"
   ]
  },
  {
   "cell_type": "markdown",
   "id": "dfb7575e",
   "metadata": {},
   "source": [
    "Now we have to merge this dataset from world bank added with world monetary fund data for 2023 together with the education and try to correlate the data."
   ]
  },
  {
   "cell_type": "code",
   "execution_count": 15,
   "id": "9f532bc7",
   "metadata": {},
   "outputs": [
    {
     "data": {
      "text/html": [
       "<div>\n",
       "<style scoped>\n",
       "    .dataframe tbody tr th:only-of-type {\n",
       "        vertical-align: middle;\n",
       "    }\n",
       "\n",
       "    .dataframe tbody tr th {\n",
       "        vertical-align: top;\n",
       "    }\n",
       "\n",
       "    .dataframe thead th {\n",
       "        text-align: right;\n",
       "    }\n",
       "</style>\n",
       "<table border=\"1\" class=\"dataframe\">\n",
       "  <thead>\n",
       "    <tr style=\"text-align: right;\">\n",
       "      <th></th>\n",
       "      <th>Isced11</th>\n",
       "      <th>Sex</th>\n",
       "      <th>Age</th>\n",
       "      <th>Country</th>\n",
       "      <th>Year</th>\n",
       "      <th>Income</th>\n",
       "      <th>Gdp_Capita</th>\n",
       "    </tr>\n",
       "  </thead>\n",
       "  <tbody>\n",
       "    <tr>\n",
       "      <th>0</th>\n",
       "      <td>ED0-2</td>\n",
       "      <td>F</td>\n",
       "      <td>Y18-64</td>\n",
       "      <td>AT</td>\n",
       "      <td>2016</td>\n",
       "      <td>19660</td>\n",
       "      <td>48479.119012</td>\n",
       "    </tr>\n",
       "    <tr>\n",
       "      <th>1</th>\n",
       "      <td>ED0-2</td>\n",
       "      <td>F</td>\n",
       "      <td>Y18-64</td>\n",
       "      <td>AT</td>\n",
       "      <td>2017</td>\n",
       "      <td>20751</td>\n",
       "      <td>50749.199548</td>\n",
       "    </tr>\n",
       "    <tr>\n",
       "      <th>2</th>\n",
       "      <td>ED0-2</td>\n",
       "      <td>F</td>\n",
       "      <td>Y18-64</td>\n",
       "      <td>AT</td>\n",
       "      <td>2018</td>\n",
       "      <td>21544</td>\n",
       "      <td>55069.215523</td>\n",
       "    </tr>\n",
       "    <tr>\n",
       "      <th>3</th>\n",
       "      <td>ED0-2</td>\n",
       "      <td>F</td>\n",
       "      <td>Y18-64</td>\n",
       "      <td>AT</td>\n",
       "      <td>2019</td>\n",
       "      <td>21989</td>\n",
       "      <td>53572.316727</td>\n",
       "    </tr>\n",
       "    <tr>\n",
       "      <th>4</th>\n",
       "      <td>ED0-2</td>\n",
       "      <td>F</td>\n",
       "      <td>Y18-64</td>\n",
       "      <td>AT</td>\n",
       "      <td>2020</td>\n",
       "      <td>21142</td>\n",
       "      <td>52204.762699</td>\n",
       "    </tr>\n",
       "    <tr>\n",
       "      <th>...</th>\n",
       "      <td>...</td>\n",
       "      <td>...</td>\n",
       "      <td>...</td>\n",
       "      <td>...</td>\n",
       "      <td>...</td>\n",
       "      <td>...</td>\n",
       "      <td>...</td>\n",
       "    </tr>\n",
       "    <tr>\n",
       "      <th>2587</th>\n",
       "      <td>ED5-8</td>\n",
       "      <td>M</td>\n",
       "      <td>Y_GE65</td>\n",
       "      <td>SK</td>\n",
       "      <td>2019</td>\n",
       "      <td>8756</td>\n",
       "      <td>20738.622885</td>\n",
       "    </tr>\n",
       "    <tr>\n",
       "      <th>2588</th>\n",
       "      <td>ED5-8</td>\n",
       "      <td>M</td>\n",
       "      <td>Y_GE65</td>\n",
       "      <td>SK</td>\n",
       "      <td>2020</td>\n",
       "      <td>9340</td>\n",
       "      <td>20920.737487</td>\n",
       "    </tr>\n",
       "    <tr>\n",
       "      <th>2589</th>\n",
       "      <td>ED5-8</td>\n",
       "      <td>M</td>\n",
       "      <td>Y_GE65</td>\n",
       "      <td>SK</td>\n",
       "      <td>2021</td>\n",
       "      <td>9898</td>\n",
       "      <td>23291.919078</td>\n",
       "    </tr>\n",
       "    <tr>\n",
       "      <th>2590</th>\n",
       "      <td>ED5-8</td>\n",
       "      <td>M</td>\n",
       "      <td>Y_GE65</td>\n",
       "      <td>SK</td>\n",
       "      <td>2022</td>\n",
       "      <td>10421</td>\n",
       "      <td>22744.785017</td>\n",
       "    </tr>\n",
       "    <tr>\n",
       "      <th>2591</th>\n",
       "      <td>ED5-8</td>\n",
       "      <td>M</td>\n",
       "      <td>Y_GE65</td>\n",
       "      <td>SK</td>\n",
       "      <td>2023</td>\n",
       "      <td>10907</td>\n",
       "      <td>27745.100000</td>\n",
       "    </tr>\n",
       "  </tbody>\n",
       "</table>\n",
       "<p>2592 rows × 7 columns</p>\n",
       "</div>"
      ],
      "text/plain": [
       "     Isced11 Sex     Age Country  Year Income    Gdp_Capita\n",
       "0      ED0-2   F  Y18-64      AT  2016  19660  48479.119012\n",
       "1      ED0-2   F  Y18-64      AT  2017  20751  50749.199548\n",
       "2      ED0-2   F  Y18-64      AT  2018  21544  55069.215523\n",
       "3      ED0-2   F  Y18-64      AT  2019  21989  53572.316727\n",
       "4      ED0-2   F  Y18-64      AT  2020  21142  52204.762699\n",
       "...      ...  ..     ...     ...   ...    ...           ...\n",
       "2587   ED5-8   M  Y_GE65      SK  2019   8756  20738.622885\n",
       "2588   ED5-8   M  Y_GE65      SK  2020   9340  20920.737487\n",
       "2589   ED5-8   M  Y_GE65      SK  2021   9898  23291.919078\n",
       "2590   ED5-8   M  Y_GE65      SK  2022  10421  22744.785017\n",
       "2591   ED5-8   M  Y_GE65      SK  2023  10907  27745.100000\n",
       "\n",
       "[2592 rows x 7 columns]"
      ]
     },
     "execution_count": 15,
     "metadata": {},
     "output_type": "execute_result"
    }
   ],
   "source": [
    "gdp_per_capita['Year'] = gdp_per_capita['Year'].astype(int)\n",
    "education_income_wealth = pd.merge(filtered_education_income, gdp_per_capita, on=['Country', 'Year'], how='left')\n",
    "education_income_wealth"
   ]
  },
  {
   "cell_type": "markdown",
   "id": "d88862ec",
   "metadata": {},
   "source": [
    "Now we want to explore a bit education categoties before encoding. We have the following categories:\n",
    "- Isced11 are the level of education.\n",
    "   1. ED0-2 means: Primary-Lower Secondary School\n",
    "   2. ED3-4 means: High School\n",
    "   3. ED5-8 means: Bachelor, Master, Doctorate (College Education)\n",
    "- Sex: F female and M male\n",
    "- Country: Each country has a iso code\n",
    "- Age: Here we've Y_GE65 (Pension Age), Y18-64 (Working Age)\n",
    "We need at least encode the categoris.\n"
   ]
  },
  {
   "cell_type": "markdown",
   "id": "e985073c",
   "metadata": {},
   "source": [
    "Now we want to set an order and encode both ISCED11 and Age. So basically:\n",
    "- ED0-2< ED3_4 < ED5_8\n",
    "- Y18_64 < Y65_GE\n",
    "\n",
    "\n"
   ]
  },
  {
   "cell_type": "code",
   "execution_count": 16,
   "id": "b0d19b5d",
   "metadata": {},
   "outputs": [
    {
     "data": {
      "text/html": [
       "<div>\n",
       "<style scoped>\n",
       "    .dataframe tbody tr th:only-of-type {\n",
       "        vertical-align: middle;\n",
       "    }\n",
       "\n",
       "    .dataframe tbody tr th {\n",
       "        vertical-align: top;\n",
       "    }\n",
       "\n",
       "    .dataframe thead th {\n",
       "        text-align: right;\n",
       "    }\n",
       "</style>\n",
       "<table border=\"1\" class=\"dataframe\">\n",
       "  <thead>\n",
       "    <tr style=\"text-align: right;\">\n",
       "      <th></th>\n",
       "      <th>Isced11</th>\n",
       "      <th>Sex</th>\n",
       "      <th>Age</th>\n",
       "      <th>Country</th>\n",
       "      <th>Year</th>\n",
       "      <th>Income</th>\n",
       "      <th>Gdp_Capita</th>\n",
       "    </tr>\n",
       "  </thead>\n",
       "  <tbody>\n",
       "    <tr>\n",
       "      <th>0</th>\n",
       "      <td>ED0-2</td>\n",
       "      <td>0</td>\n",
       "      <td>Y18-64</td>\n",
       "      <td>AT</td>\n",
       "      <td>2016</td>\n",
       "      <td>19660</td>\n",
       "      <td>48479.119012</td>\n",
       "    </tr>\n",
       "    <tr>\n",
       "      <th>1</th>\n",
       "      <td>ED0-2</td>\n",
       "      <td>0</td>\n",
       "      <td>Y18-64</td>\n",
       "      <td>AT</td>\n",
       "      <td>2017</td>\n",
       "      <td>20751</td>\n",
       "      <td>50749.199548</td>\n",
       "    </tr>\n",
       "    <tr>\n",
       "      <th>2</th>\n",
       "      <td>ED0-2</td>\n",
       "      <td>0</td>\n",
       "      <td>Y18-64</td>\n",
       "      <td>AT</td>\n",
       "      <td>2018</td>\n",
       "      <td>21544</td>\n",
       "      <td>55069.215523</td>\n",
       "    </tr>\n",
       "    <tr>\n",
       "      <th>3</th>\n",
       "      <td>ED0-2</td>\n",
       "      <td>0</td>\n",
       "      <td>Y18-64</td>\n",
       "      <td>AT</td>\n",
       "      <td>2019</td>\n",
       "      <td>21989</td>\n",
       "      <td>53572.316727</td>\n",
       "    </tr>\n",
       "    <tr>\n",
       "      <th>4</th>\n",
       "      <td>ED0-2</td>\n",
       "      <td>0</td>\n",
       "      <td>Y18-64</td>\n",
       "      <td>AT</td>\n",
       "      <td>2020</td>\n",
       "      <td>21142</td>\n",
       "      <td>52204.762699</td>\n",
       "    </tr>\n",
       "  </tbody>\n",
       "</table>\n",
       "</div>"
      ],
      "text/plain": [
       "  Isced11  Sex     Age Country  Year Income    Gdp_Capita\n",
       "0   ED0-2    0  Y18-64      AT  2016  19660  48479.119012\n",
       "1   ED0-2    0  Y18-64      AT  2017  20751  50749.199548\n",
       "2   ED0-2    0  Y18-64      AT  2018  21544  55069.215523\n",
       "3   ED0-2    0  Y18-64      AT  2019  21989  53572.316727\n",
       "4   ED0-2    0  Y18-64      AT  2020  21142  52204.762699"
      ]
     },
     "execution_count": 16,
     "metadata": {},
     "output_type": "execute_result"
    }
   ],
   "source": [
    "from sklearn.preprocessing import OrdinalEncoder\n",
    "# country\n",
    "encoder = OrdinalEncoder()\n",
    "encoding_sex = education_income_wealth[['Sex']]\n",
    "encoded_sex = encoder.fit_transform(encoding_sex)\n",
    "education_income_wealth['Sex'] = encoded_sex\n",
    "education_income_wealth['Sex'] = education_income_wealth['Sex'].astype(int)\n",
    "education_income_wealth.head()"
   ]
  },
  {
   "cell_type": "code",
   "execution_count": 17,
   "id": "185e8f29",
   "metadata": {},
   "outputs": [
    {
     "data": {
      "text/html": [
       "<div>\n",
       "<style scoped>\n",
       "    .dataframe tbody tr th:only-of-type {\n",
       "        vertical-align: middle;\n",
       "    }\n",
       "\n",
       "    .dataframe tbody tr th {\n",
       "        vertical-align: top;\n",
       "    }\n",
       "\n",
       "    .dataframe thead th {\n",
       "        text-align: right;\n",
       "    }\n",
       "</style>\n",
       "<table border=\"1\" class=\"dataframe\">\n",
       "  <thead>\n",
       "    <tr style=\"text-align: right;\">\n",
       "      <th></th>\n",
       "      <th>Isced11</th>\n",
       "      <th>Sex</th>\n",
       "      <th>Age</th>\n",
       "      <th>Country</th>\n",
       "      <th>Year</th>\n",
       "      <th>Income</th>\n",
       "      <th>Gdp_Capita</th>\n",
       "    </tr>\n",
       "  </thead>\n",
       "  <tbody>\n",
       "    <tr>\n",
       "      <th>1000</th>\n",
       "      <td>ED3_4</td>\n",
       "      <td>0</td>\n",
       "      <td>0</td>\n",
       "      <td>LU</td>\n",
       "      <td>2016</td>\n",
       "      <td>33338</td>\n",
       "      <td>114382.244098</td>\n",
       "    </tr>\n",
       "    <tr>\n",
       "      <th>1001</th>\n",
       "      <td>ED3_4</td>\n",
       "      <td>0</td>\n",
       "      <td>0</td>\n",
       "      <td>LU</td>\n",
       "      <td>2017</td>\n",
       "      <td>36166</td>\n",
       "      <td>117906.738763</td>\n",
       "    </tr>\n",
       "    <tr>\n",
       "      <th>1002</th>\n",
       "      <td>ED3_4</td>\n",
       "      <td>0</td>\n",
       "      <td>0</td>\n",
       "      <td>LU</td>\n",
       "      <td>2018</td>\n",
       "      <td>34866</td>\n",
       "      <td>124961.567471</td>\n",
       "    </tr>\n",
       "    <tr>\n",
       "      <th>1003</th>\n",
       "      <td>ED3_4</td>\n",
       "      <td>0</td>\n",
       "      <td>0</td>\n",
       "      <td>LU</td>\n",
       "      <td>2019</td>\n",
       "      <td>34930</td>\n",
       "      <td>120617.290450</td>\n",
       "    </tr>\n",
       "    <tr>\n",
       "      <th>1004</th>\n",
       "      <td>ED3_4</td>\n",
       "      <td>0</td>\n",
       "      <td>0</td>\n",
       "      <td>LU</td>\n",
       "      <td>2020</td>\n",
       "      <td>34275</td>\n",
       "      <td>125088.746325</td>\n",
       "    </tr>\n",
       "    <tr>\n",
       "      <th>1005</th>\n",
       "      <td>ED3_4</td>\n",
       "      <td>0</td>\n",
       "      <td>0</td>\n",
       "      <td>LU</td>\n",
       "      <td>2021</td>\n",
       "      <td>39471</td>\n",
       "      <td>143071.620047</td>\n",
       "    </tr>\n",
       "    <tr>\n",
       "      <th>1006</th>\n",
       "      <td>ED3_4</td>\n",
       "      <td>0</td>\n",
       "      <td>0</td>\n",
       "      <td>LU</td>\n",
       "      <td>2022</td>\n",
       "      <td>41990</td>\n",
       "      <td>133756.443343</td>\n",
       "    </tr>\n",
       "    <tr>\n",
       "      <th>1007</th>\n",
       "      <td>ED3_4</td>\n",
       "      <td>0</td>\n",
       "      <td>0</td>\n",
       "      <td>LU</td>\n",
       "      <td>2023</td>\n",
       "      <td>:</td>\n",
       "      <td>138896.700000</td>\n",
       "    </tr>\n",
       "    <tr>\n",
       "      <th>1008</th>\n",
       "      <td>ED3_4</td>\n",
       "      <td>0</td>\n",
       "      <td>0</td>\n",
       "      <td>LV</td>\n",
       "      <td>2016</td>\n",
       "      <td>6007</td>\n",
       "      <td>15334.974200</td>\n",
       "    </tr>\n",
       "    <tr>\n",
       "      <th>1009</th>\n",
       "      <td>ED3_4</td>\n",
       "      <td>0</td>\n",
       "      <td>0</td>\n",
       "      <td>LV</td>\n",
       "      <td>2017</td>\n",
       "      <td>6342</td>\n",
       "      <td>16793.773215</td>\n",
       "    </tr>\n",
       "  </tbody>\n",
       "</table>\n",
       "</div>"
      ],
      "text/plain": [
       "     Isced11  Sex  Age Country  Year  Income     Gdp_Capita\n",
       "1000   ED3_4    0    0      LU  2016  33338   114382.244098\n",
       "1001   ED3_4    0    0      LU  2017   36166  117906.738763\n",
       "1002   ED3_4    0    0      LU  2018   34866  124961.567471\n",
       "1003   ED3_4    0    0      LU  2019   34930  120617.290450\n",
       "1004   ED3_4    0    0      LU  2020  34275   125088.746325\n",
       "1005   ED3_4    0    0      LU  2021  39471   143071.620047\n",
       "1006   ED3_4    0    0      LU  2022  41990   133756.443343\n",
       "1007   ED3_4    0    0      LU  2023       :  138896.700000\n",
       "1008   ED3_4    0    0      LV  2016    6007   15334.974200\n",
       "1009   ED3_4    0    0      LV  2017    6342   16793.773215"
      ]
     },
     "execution_count": 17,
     "metadata": {},
     "output_type": "execute_result"
    }
   ],
   "source": [
    "education_income_wealth['Age'] = pd.Categorical(education_income_wealth['Age'], categories=['Y18-64', 'Y65_GE'], ordered=True)\n",
    "education_income_wealth['Age'] = education_income_wealth['Age'].cat.codes\n",
    "education_income_wealth[1000:1100].head(10)"
   ]
  },
  {
   "cell_type": "code",
   "execution_count": 18,
   "id": "fcec59d4",
   "metadata": {},
   "outputs": [
    {
     "name": "stderr",
     "output_type": "stream",
     "text": [
      "C:\\Users\\giorg\\anaconda3\\Lib\\site-packages\\sklearn\\preprocessing\\_encoders.py:972: FutureWarning: `sparse` was renamed to `sparse_output` in version 1.2 and will be removed in 1.4. `sparse_output` is ignored unless you leave `sparse` to its default value.\n",
      "  warnings.warn(\n"
     ]
    },
    {
     "data": {
      "text/html": [
       "<div>\n",
       "<style scoped>\n",
       "    .dataframe tbody tr th:only-of-type {\n",
       "        vertical-align: middle;\n",
       "    }\n",
       "\n",
       "    .dataframe tbody tr th {\n",
       "        vertical-align: top;\n",
       "    }\n",
       "\n",
       "    .dataframe thead th {\n",
       "        text-align: right;\n",
       "    }\n",
       "</style>\n",
       "<table border=\"1\" class=\"dataframe\">\n",
       "  <thead>\n",
       "    <tr style=\"text-align: right;\">\n",
       "      <th></th>\n",
       "      <th>Isced11</th>\n",
       "      <th>Sex</th>\n",
       "      <th>Age</th>\n",
       "      <th>Country</th>\n",
       "      <th>Year</th>\n",
       "      <th>Income</th>\n",
       "      <th>Gdp_Capita</th>\n",
       "    </tr>\n",
       "  </thead>\n",
       "  <tbody>\n",
       "    <tr>\n",
       "      <th>0</th>\n",
       "      <td>ED0-2</td>\n",
       "      <td>0</td>\n",
       "      <td>0</td>\n",
       "      <td>AT</td>\n",
       "      <td>2016</td>\n",
       "      <td>19660</td>\n",
       "      <td>48479.119012</td>\n",
       "    </tr>\n",
       "    <tr>\n",
       "      <th>1</th>\n",
       "      <td>ED0-2</td>\n",
       "      <td>0</td>\n",
       "      <td>0</td>\n",
       "      <td>AT</td>\n",
       "      <td>2017</td>\n",
       "      <td>20751</td>\n",
       "      <td>50749.199548</td>\n",
       "    </tr>\n",
       "    <tr>\n",
       "      <th>2</th>\n",
       "      <td>ED0-2</td>\n",
       "      <td>0</td>\n",
       "      <td>0</td>\n",
       "      <td>AT</td>\n",
       "      <td>2018</td>\n",
       "      <td>21544</td>\n",
       "      <td>55069.215523</td>\n",
       "    </tr>\n",
       "    <tr>\n",
       "      <th>3</th>\n",
       "      <td>ED0-2</td>\n",
       "      <td>0</td>\n",
       "      <td>0</td>\n",
       "      <td>AT</td>\n",
       "      <td>2019</td>\n",
       "      <td>21989</td>\n",
       "      <td>53572.316727</td>\n",
       "    </tr>\n",
       "    <tr>\n",
       "      <th>4</th>\n",
       "      <td>ED0-2</td>\n",
       "      <td>0</td>\n",
       "      <td>0</td>\n",
       "      <td>AT</td>\n",
       "      <td>2020</td>\n",
       "      <td>21142</td>\n",
       "      <td>52204.762699</td>\n",
       "    </tr>\n",
       "  </tbody>\n",
       "</table>\n",
       "</div>"
      ],
      "text/plain": [
       "  Isced11  Sex  Age Country  Year Income    Gdp_Capita\n",
       "0   ED0-2    0    0      AT  2016  19660  48479.119012\n",
       "1   ED0-2    0    0      AT  2017  20751  50749.199548\n",
       "2   ED0-2    0    0      AT  2018  21544  55069.215523\n",
       "3   ED0-2    0    0      AT  2019  21989  53572.316727\n",
       "4   ED0-2    0    0      AT  2020  21142  52204.762699"
      ]
     },
     "execution_count": 18,
     "metadata": {},
     "output_type": "execute_result"
    }
   ],
   "source": [
    "from sklearn.preprocessing import OneHotEncoder\n",
    "encoder = OneHotEncoder(sparse=False)\n",
    "encoded_countries = encoder.fit_transform([education_income_wealth['Country']])\n",
    "education_income_wealth.head()\n"
   ]
  },
  {
   "cell_type": "code",
   "execution_count": 19,
   "id": "aa8d06a7",
   "metadata": {},
   "outputs": [
    {
     "name": "stdout",
     "output_type": "stream",
     "text": [
      "['AT' 'BE' 'BG' 'CY' 'CZ' 'DE' 'DK' 'EE' 'EL' 'ES' 'FI' 'FR' 'HR' 'HU'\n",
      " 'IE' 'IT' 'LT' 'LU' 'LV' 'MT' 'NL' 'PL' 'PT' 'RO' 'SE' 'SI' 'SK']\n",
      "{'AT': 0, 'BE': 1, 'BG': 2, 'CY': 3, 'CZ': 4, 'DE': 5, 'DK': 6, 'EE': 7, 'EL': 8, 'ES': 9, 'FI': 10, 'FR': 11, 'HR': 12, 'HU': 13, 'IE': 14, 'IT': 15, 'LT': 16, 'LU': 17, 'LV': 18, 'MT': 19, 'NL': 20, 'PL': 21, 'PT': 22, 'RO': 23, 'SE': 24, 'SI': 25, 'SK': 26}\n"
     ]
    }
   ],
   "source": [
    "unique_countries_codes = education_income_wealth['Country'].unique()\n",
    "print(unique_countries_codes)\n",
    "country_mapping = {}\n",
    "index = 0\n",
    "for key in list(unique_countries_codes):\n",
    "    country_mapping[key] = index\n",
    "    index = index + 1\n",
    "print(country_mapping)\n",
    "education_income_wealth['Country'] = education_income_wealth['Country'].map(country_mapping)\n",
    "education_income_wealth.head()\n",
    "filtered_df = education_income_wealth\n"
   ]
  },
  {
   "cell_type": "code",
   "execution_count": 20,
   "id": "d4fcfe7b",
   "metadata": {},
   "outputs": [
    {
     "name": "stdout",
     "output_type": "stream",
     "text": [
      "[[1. 1. 1. ... 1. 1. 1.]]\n"
     ]
    }
   ],
   "source": [
    "print(encoded_countries)"
   ]
  },
  {
   "cell_type": "code",
   "execution_count": 21,
   "id": "b7188107",
   "metadata": {},
   "outputs": [
    {
     "name": "stdout",
     "output_type": "stream",
     "text": [
      "Categories: {'ED0-2': 0, 'ED3_4': 1, 'ED5-8': 2}\n"
     ]
    },
    {
     "data": {
      "text/html": [
       "<div>\n",
       "<style scoped>\n",
       "    .dataframe tbody tr th:only-of-type {\n",
       "        vertical-align: middle;\n",
       "    }\n",
       "\n",
       "    .dataframe tbody tr th {\n",
       "        vertical-align: top;\n",
       "    }\n",
       "\n",
       "    .dataframe thead th {\n",
       "        text-align: right;\n",
       "    }\n",
       "</style>\n",
       "<table border=\"1\" class=\"dataframe\">\n",
       "  <thead>\n",
       "    <tr style=\"text-align: right;\">\n",
       "      <th></th>\n",
       "      <th>Isced11</th>\n",
       "      <th>Sex</th>\n",
       "      <th>Age</th>\n",
       "      <th>Country</th>\n",
       "      <th>Year</th>\n",
       "      <th>Income</th>\n",
       "      <th>Gdp_Capita</th>\n",
       "    </tr>\n",
       "  </thead>\n",
       "  <tbody>\n",
       "    <tr>\n",
       "      <th>1000</th>\n",
       "      <td>1</td>\n",
       "      <td>0</td>\n",
       "      <td>0</td>\n",
       "      <td>17</td>\n",
       "      <td>2016</td>\n",
       "      <td>33338</td>\n",
       "      <td>114382.244098</td>\n",
       "    </tr>\n",
       "    <tr>\n",
       "      <th>1001</th>\n",
       "      <td>1</td>\n",
       "      <td>0</td>\n",
       "      <td>0</td>\n",
       "      <td>17</td>\n",
       "      <td>2017</td>\n",
       "      <td>36166</td>\n",
       "      <td>117906.738763</td>\n",
       "    </tr>\n",
       "    <tr>\n",
       "      <th>1002</th>\n",
       "      <td>1</td>\n",
       "      <td>0</td>\n",
       "      <td>0</td>\n",
       "      <td>17</td>\n",
       "      <td>2018</td>\n",
       "      <td>34866</td>\n",
       "      <td>124961.567471</td>\n",
       "    </tr>\n",
       "    <tr>\n",
       "      <th>1003</th>\n",
       "      <td>1</td>\n",
       "      <td>0</td>\n",
       "      <td>0</td>\n",
       "      <td>17</td>\n",
       "      <td>2019</td>\n",
       "      <td>34930</td>\n",
       "      <td>120617.290450</td>\n",
       "    </tr>\n",
       "    <tr>\n",
       "      <th>1004</th>\n",
       "      <td>1</td>\n",
       "      <td>0</td>\n",
       "      <td>0</td>\n",
       "      <td>17</td>\n",
       "      <td>2020</td>\n",
       "      <td>34275</td>\n",
       "      <td>125088.746325</td>\n",
       "    </tr>\n",
       "    <tr>\n",
       "      <th>1005</th>\n",
       "      <td>1</td>\n",
       "      <td>0</td>\n",
       "      <td>0</td>\n",
       "      <td>17</td>\n",
       "      <td>2021</td>\n",
       "      <td>39471</td>\n",
       "      <td>143071.620047</td>\n",
       "    </tr>\n",
       "    <tr>\n",
       "      <th>1006</th>\n",
       "      <td>1</td>\n",
       "      <td>0</td>\n",
       "      <td>0</td>\n",
       "      <td>17</td>\n",
       "      <td>2022</td>\n",
       "      <td>41990</td>\n",
       "      <td>133756.443343</td>\n",
       "    </tr>\n",
       "    <tr>\n",
       "      <th>1007</th>\n",
       "      <td>1</td>\n",
       "      <td>0</td>\n",
       "      <td>0</td>\n",
       "      <td>17</td>\n",
       "      <td>2023</td>\n",
       "      <td>:</td>\n",
       "      <td>138896.700000</td>\n",
       "    </tr>\n",
       "    <tr>\n",
       "      <th>1008</th>\n",
       "      <td>1</td>\n",
       "      <td>0</td>\n",
       "      <td>0</td>\n",
       "      <td>18</td>\n",
       "      <td>2016</td>\n",
       "      <td>6007</td>\n",
       "      <td>15334.974200</td>\n",
       "    </tr>\n",
       "    <tr>\n",
       "      <th>1009</th>\n",
       "      <td>1</td>\n",
       "      <td>0</td>\n",
       "      <td>0</td>\n",
       "      <td>18</td>\n",
       "      <td>2017</td>\n",
       "      <td>6342</td>\n",
       "      <td>16793.773215</td>\n",
       "    </tr>\n",
       "  </tbody>\n",
       "</table>\n",
       "</div>"
      ],
      "text/plain": [
       "      Isced11  Sex  Age  Country  Year  Income     Gdp_Capita\n",
       "1000        1    0    0       17  2016  33338   114382.244098\n",
       "1001        1    0    0       17  2017   36166  117906.738763\n",
       "1002        1    0    0       17  2018   34866  124961.567471\n",
       "1003        1    0    0       17  2019   34930  120617.290450\n",
       "1004        1    0    0       17  2020  34275   125088.746325\n",
       "1005        1    0    0       17  2021  39471   143071.620047\n",
       "1006        1    0    0       17  2022  41990   133756.443343\n",
       "1007        1    0    0       17  2023       :  138896.700000\n",
       "1008        1    0    0       18  2016    6007   15334.974200\n",
       "1009        1    0    0       18  2017    6342   16793.773215"
      ]
     },
     "execution_count": 21,
     "metadata": {},
     "output_type": "execute_result"
    }
   ],
   "source": [
    "education_mapping = {}\n",
    "\n",
    "isced11_data = filtered_df['Isced11'].unique()\n",
    "for index, cat in enumerate(isced11_data):\n",
    "    education_mapping[cat] = index\n",
    "print(f'Categories: {education_mapping}')\n",
    "filtered_df['Isced11'] = filtered_df['Isced11'].map(education_mapping)\n",
    "filtered_df.head()\n",
    "filtered_df[1000:1100].head(10)\n"
   ]
  },
  {
   "cell_type": "code",
   "execution_count": 22,
   "id": "c3485310",
   "metadata": {},
   "outputs": [
    {
     "data": {
      "text/html": [
       "<div>\n",
       "<style scoped>\n",
       "    .dataframe tbody tr th:only-of-type {\n",
       "        vertical-align: middle;\n",
       "    }\n",
       "\n",
       "    .dataframe tbody tr th {\n",
       "        vertical-align: top;\n",
       "    }\n",
       "\n",
       "    .dataframe thead th {\n",
       "        text-align: right;\n",
       "    }\n",
       "</style>\n",
       "<table border=\"1\" class=\"dataframe\">\n",
       "  <thead>\n",
       "    <tr style=\"text-align: right;\">\n",
       "      <th></th>\n",
       "      <th>Isced11</th>\n",
       "      <th>Sex</th>\n",
       "      <th>Age</th>\n",
       "      <th>Country</th>\n",
       "      <th>Year</th>\n",
       "      <th>Income</th>\n",
       "      <th>Gdp_Capita</th>\n",
       "    </tr>\n",
       "  </thead>\n",
       "  <tbody>\n",
       "    <tr>\n",
       "      <th>0</th>\n",
       "      <td>0</td>\n",
       "      <td>0</td>\n",
       "      <td>0</td>\n",
       "      <td>0</td>\n",
       "      <td>2016</td>\n",
       "      <td>19660</td>\n",
       "      <td>48479.119012</td>\n",
       "    </tr>\n",
       "    <tr>\n",
       "      <th>1</th>\n",
       "      <td>0</td>\n",
       "      <td>0</td>\n",
       "      <td>0</td>\n",
       "      <td>0</td>\n",
       "      <td>2017</td>\n",
       "      <td>20751</td>\n",
       "      <td>50749.199548</td>\n",
       "    </tr>\n",
       "    <tr>\n",
       "      <th>2</th>\n",
       "      <td>0</td>\n",
       "      <td>0</td>\n",
       "      <td>0</td>\n",
       "      <td>0</td>\n",
       "      <td>2018</td>\n",
       "      <td>21544</td>\n",
       "      <td>55069.215523</td>\n",
       "    </tr>\n",
       "    <tr>\n",
       "      <th>3</th>\n",
       "      <td>0</td>\n",
       "      <td>0</td>\n",
       "      <td>0</td>\n",
       "      <td>0</td>\n",
       "      <td>2019</td>\n",
       "      <td>21989</td>\n",
       "      <td>53572.316727</td>\n",
       "    </tr>\n",
       "    <tr>\n",
       "      <th>4</th>\n",
       "      <td>0</td>\n",
       "      <td>0</td>\n",
       "      <td>0</td>\n",
       "      <td>0</td>\n",
       "      <td>2020</td>\n",
       "      <td>21142</td>\n",
       "      <td>52204.762699</td>\n",
       "    </tr>\n",
       "  </tbody>\n",
       "</table>\n",
       "</div>"
      ],
      "text/plain": [
       "   Isced11  Sex  Age  Country  Year  Income    Gdp_Capita\n",
       "0        0    0    0        0  2016   19660  48479.119012\n",
       "1        0    0    0        0  2017   20751  50749.199548\n",
       "2        0    0    0        0  2018   21544  55069.215523\n",
       "3        0    0    0        0  2019   21989  53572.316727\n",
       "4        0    0    0        0  2020   21142  52204.762699"
      ]
     },
     "execution_count": 22,
     "metadata": {},
     "output_type": "execute_result"
    }
   ],
   "source": [
    "for column in filtered_df.columns:\n",
    "    # filtered_dfeck if the column's data type is object (string)\n",
    "    if filtered_df[column].dtype == 'object':\n",
    "        # Replace ':' with '0' and convert the column to a numeric type if necessary\n",
    "        filtered_df[column] = filtered_df[column].replace(':', '-2', regex=True)\n",
    "        # Optionally convert column to numeric if that's required\n",
    "        filtered_df[column] = pd.to_numeric(filtered_df[column], errors='coerce')\n",
    "filtered_df.head()"
   ]
  },
  {
   "cell_type": "code",
   "execution_count": 23,
   "id": "dc4a3adb",
   "metadata": {},
   "outputs": [
    {
     "data": {
      "text/plain": [
       "Country\n",
       "0    26993.500000\n",
       "1    23413.781250\n",
       "2     4437.739583\n",
       "3    17142.821429\n",
       "4     9844.375000\n",
       "5    23044.520833\n",
       "6    29578.072917\n",
       "7    10151.322917\n",
       "8     9804.385417\n",
       "9    18282.468750\n",
       "Name: Income, dtype: float64"
      ]
     },
     "execution_count": 23,
     "metadata": {},
     "output_type": "execute_result"
    }
   ],
   "source": [
    "mean_income_per_country = filtered_df[filtered_df['Income'] != -2].groupby('Country')['Income'].mean()\n",
    "mean_income_per_country.head(10)"
   ]
  },
  {
   "cell_type": "code",
   "execution_count": 24,
   "id": "b6d1b1fb",
   "metadata": {},
   "outputs": [
    {
     "data": {
      "text/html": [
       "<div>\n",
       "<style scoped>\n",
       "    .dataframe tbody tr th:only-of-type {\n",
       "        vertical-align: middle;\n",
       "    }\n",
       "\n",
       "    .dataframe tbody tr th {\n",
       "        vertical-align: top;\n",
       "    }\n",
       "\n",
       "    .dataframe thead th {\n",
       "        text-align: right;\n",
       "    }\n",
       "</style>\n",
       "<table border=\"1\" class=\"dataframe\">\n",
       "  <thead>\n",
       "    <tr style=\"text-align: right;\">\n",
       "      <th></th>\n",
       "      <th>Isced11</th>\n",
       "      <th>Sex</th>\n",
       "      <th>Age</th>\n",
       "      <th>Country</th>\n",
       "      <th>Year</th>\n",
       "      <th>Income</th>\n",
       "      <th>Gdp_Capita</th>\n",
       "    </tr>\n",
       "  </thead>\n",
       "  <tbody>\n",
       "    <tr>\n",
       "      <th>0</th>\n",
       "      <td>0</td>\n",
       "      <td>0</td>\n",
       "      <td>0</td>\n",
       "      <td>0</td>\n",
       "      <td>2016</td>\n",
       "      <td>19660.0</td>\n",
       "      <td>48479.119012</td>\n",
       "    </tr>\n",
       "    <tr>\n",
       "      <th>1</th>\n",
       "      <td>0</td>\n",
       "      <td>0</td>\n",
       "      <td>0</td>\n",
       "      <td>0</td>\n",
       "      <td>2017</td>\n",
       "      <td>20751.0</td>\n",
       "      <td>50749.199548</td>\n",
       "    </tr>\n",
       "    <tr>\n",
       "      <th>2</th>\n",
       "      <td>0</td>\n",
       "      <td>0</td>\n",
       "      <td>0</td>\n",
       "      <td>0</td>\n",
       "      <td>2018</td>\n",
       "      <td>21544.0</td>\n",
       "      <td>55069.215523</td>\n",
       "    </tr>\n",
       "    <tr>\n",
       "      <th>3</th>\n",
       "      <td>0</td>\n",
       "      <td>0</td>\n",
       "      <td>0</td>\n",
       "      <td>0</td>\n",
       "      <td>2019</td>\n",
       "      <td>21989.0</td>\n",
       "      <td>53572.316727</td>\n",
       "    </tr>\n",
       "    <tr>\n",
       "      <th>4</th>\n",
       "      <td>0</td>\n",
       "      <td>0</td>\n",
       "      <td>0</td>\n",
       "      <td>0</td>\n",
       "      <td>2020</td>\n",
       "      <td>21142.0</td>\n",
       "      <td>52204.762699</td>\n",
       "    </tr>\n",
       "  </tbody>\n",
       "</table>\n",
       "</div>"
      ],
      "text/plain": [
       "   Isced11  Sex  Age  Country  Year   Income    Gdp_Capita\n",
       "0        0    0    0        0  2016  19660.0  48479.119012\n",
       "1        0    0    0        0  2017  20751.0  50749.199548\n",
       "2        0    0    0        0  2018  21544.0  55069.215523\n",
       "3        0    0    0        0  2019  21989.0  53572.316727\n",
       "4        0    0    0        0  2020  21142.0  52204.762699"
      ]
     },
     "execution_count": 24,
     "metadata": {},
     "output_type": "execute_result"
    }
   ],
   "source": [
    "def replace_negative(row):\n",
    "    if row['Income'] == -2:\n",
    "        return mean_income_per_country[row['Country']]\n",
    "    else:\n",
    "        return row['Income']\n",
    "filtered_df['Income'] = filtered_df.apply(replace_negative, axis=1)\n",
    "filtered_df.head()"
   ]
  },
  {
   "cell_type": "code",
   "execution_count": 25,
   "id": "6c135734",
   "metadata": {},
   "outputs": [],
   "source": [
    "# now we revert the encoing for the country\n",
    "#reverse_map = {value: key for key,value in country_mapping.items()}\n",
    "#filtered_df['Country'] = filtered_df['Country'].map(reverse_map)\n",
    "#filtered_df.head()\n",
    "\n"
   ]
  },
  {
   "cell_type": "code",
   "execution_count": 26,
   "id": "7a3c0826",
   "metadata": {},
   "outputs": [],
   "source": [
    "#df_final_encoded = pd.get_dummies(filtered_df, columns=['Country'])\n",
    "#df_final_encoded = pd.get_dummies(filtered_df, columns=['Isced11'])\n",
    "#df_final_encoded = pd.get_dummies(filtered_df, columns=['Sex'])\n",
    "#df_final_encoded = pd.get_dummies(df_final_encoded, columns=['Age'])\n",
    "df_final_encoded = filtered_df\n",
    "# fix the country to Germany\n"
   ]
  },
  {
   "cell_type": "markdown",
   "id": "8e97ce4c",
   "metadata": {},
   "source": [
    "Our goal is to correlate the education and income in Germany.\n"
   ]
  },
  {
   "cell_type": "code",
   "execution_count": 27,
   "id": "150c4d58",
   "metadata": {},
   "outputs": [],
   "source": [
    "correlation_matrix = df_final_encoded.corr()\n"
   ]
  },
  {
   "cell_type": "markdown",
   "id": "0d2a0152",
   "metadata": {},
   "source": [
    "Now the income column can have invalid values and non numeric, we need to filter it with the mean for each country."
   ]
  },
  {
   "cell_type": "code",
   "execution_count": 28,
   "id": "5cc5589d",
   "metadata": {},
   "outputs": [
    {
     "data": {
      "image/png": "[encoded data removed]",
      "text/plain": [
       "<Figure size 1000x800 with 2 Axes>"
      ]
     },
     "metadata": {},
     "output_type": "display_data"
    }
   ],
   "source": [
    "import seaborn as sns\n",
    "import matplotlib.pyplot as plt\n",
    "\n",
    "plt.figure(figsize=(10, 8))\n",
    "sns.heatmap(correlation_matrix, annot=True, cmap='coolwarm', fmt=\".3f\", linewidths=.5)\n",
    "plt.title('Correlation Matrix')\n",
    "plt.show()\n"
   ]
  },
  {
   "cell_type": "markdown",
   "id": "0818eab1",
   "metadata": {},
   "source": [
    "Intesting to notice if we pick Germany:\n",
    "- the level instruction is highly correlated to income\n",
    "- more high is the level better is correlated. Lower is the level is negatively correlated, so less money.\n",
    "- The gdp per capita is related to year.\n",
    "- the income is related to gdp per capita.\n",
    "- the income depends on the year.\n",
    "- There is no direct correlation from gdp per capita and instruction level."
   ]
  },
  {
   "cell_type": "code",
   "execution_count": 29,
   "id": "306f747d",
   "metadata": {},
   "outputs": [
    {
     "data": {
      "image/png": "[encoded data removed]",
      "text/plain": [
       "<Figure size 1000x800 with 2 Axes>"
      ]
     },
     "metadata": {},
     "output_type": "display_data"
    }
   ],
   "source": [
    "from sklearn.linear_model import LinearRegression\n",
    "aggregated_df = df_final_encoded[df_final_encoded['Country'] == 5]\n",
    "correlation_matrix = aggregated_df.corr() \n",
    "plt.figure(figsize=(10, 8))\n",
    "sns.heatmap(correlation_matrix, annot=True, cmap='coolwarm', fmt=\".3f\", linewidths=.5)\n",
    "plt.title('Correlation Matrix: Germany')\n",
    "plt.show()\n",
    "\n"
   ]
  },
  {
   "cell_type": "markdown",
   "id": "c1c9103d",
   "metadata": {},
   "source": [
    "Cooi we've seen that the income is related to gdp_percapita, education, year. We want to predict how the salary will chaange with change of GPD_PerCapita, Education, Year. A linear regression model fits well for this."
   ]
  },
  {
   "cell_type": "code",
   "execution_count": 30,
   "id": "afa73679",
   "metadata": {},
   "outputs": [],
   "source": [
    "aggregated_df.head()\n",
    "X = aggregated_df.iloc[:,[0,1, 2,3,4]].values            # Independent variables\n",
    "y = aggregated_df.iloc[:, 5].values  "
   ]
  },
  {
   "cell_type": "code",
   "execution_count": 31,
   "id": "334f4c77",
   "metadata": {},
   "outputs": [
    {
     "data": {
      "text/plain": [
       "((96, 5), (96,), (76, 5), (20, 5), (76,), (20,))"
      ]
     },
     "execution_count": 31,
     "metadata": {},
     "output_type": "execute_result"
    }
   ],
   "source": [
    "from sklearn.model_selection import train_test_split \n",
    "from sklearn.linear_model import LinearRegression\n",
    "X_train, X_test, y_train, y_test = train_test_split(X, y, train_size = 0.8 , random_state = 100)\n",
    "X.shape, y.shape, X_train.shape, X_test.shape, y_train.shape, y_test.shape\n"
   ]
  },
  {
   "cell_type": "code",
   "execution_count": 32,
   "id": "c8423bd2",
   "metadata": {},
   "outputs": [
    {
     "name": "stdout",
     "output_type": "stream",
     "text": [
      "[15249. 15657. 16303. 17563. 21501. 19584. 20000. 21176. 16553. 17259.\n",
      " 17489. 18546. 20103. 18941. 18991. 19906. 16824. 17119. 18903. 19098.\n",
      " 21204. 19939. 20321. 21600. 15951. 16321. 16145. 17182. 19248. 17885.\n",
      " 18480. 19500. 21187. 21471. 21879. 23487. 26835. 25839. 26000. 27221.\n",
      " 18081. 18559. 19067. 19561. 21766. 21409. 21457. 21779. 21313. 21819.\n",
      " 22389. 23895. 26691. 25777. 25808. 27074. 17573. 18369. 18640. 19421.\n",
      " 21677. 21477. 20939. 21755. 26025. 26312. 27585. 28279. 33821. 33269.\n",
      " 33538. 34598. 21063. 21624. 22546. 23031. 28599. 27985. 28090. 28149.\n",
      " 28520. 29082. 29709. 30277. 35709. 35298. 35026. 36829. 21805. 22719.\n",
      " 23165. 23716. 28561. 28724. 28464. 29400.]\n"
     ]
    }
   ],
   "source": [
    "print(y)"
   ]
  },
  {
   "cell_type": "code",
   "execution_count": 33,
   "id": "8670da48",
   "metadata": {},
   "outputs": [
    {
     "data": {
      "text/html": [
       "<style>#sk-container-id-1 {color: black;}#sk-container-id-1 pre{padding: 0;}#sk-container-id-1 div.sk-toggleable {background-color: white;}#sk-container-id-1 label.sk-toggleable__label {cursor: pointer;display: block;width: 100%;margin-bottom: 0;padding: 0.3em;box-sizing: border-box;text-align: center;}#sk-container-id-1 label.sk-toggleable__label-arrow:before {content: \"▸\";float: left;margin-right: 0.25em;color: #696969;}#sk-container-id-1 label.sk-toggleable__label-arrow:hover:before {color: black;}#sk-container-id-1 div.sk-estimator:hover label.sk-toggleable__label-arrow:before {color: black;}#sk-container-id-1 div.sk-toggleable__content {max-height: 0;max-width: 0;overflow: hidden;text-align: left;background-color: #f0f8ff;}#sk-container-id-1 div.sk-toggleable__content pre {margin: 0.2em;color: black;border-radius: 0.25em;background-color: #f0f8ff;}#sk-container-id-1 input.sk-toggleable__control:checked~div.sk-toggleable__content {max-height: 200px;max-width: 100%;overflow: auto;}#sk-container-id-1 input.sk-toggleable__control:checked~label.sk-toggleable__label-arrow:before {content: \"▾\";}#sk-container-id-1 div.sk-estimator input.sk-toggleable__control:checked~label.sk-toggleable__label {background-color: #d4ebff;}#sk-container-id-1 div.sk-label input.sk-toggleable__control:checked~label.sk-toggleable__label {background-color: #d4ebff;}#sk-container-id-1 input.sk-hidden--visually {border: 0;clip: rect(1px 1px 1px 1px);clip: rect(1px, 1px, 1px, 1px);height: 1px;margin: -1px;overflow: hidden;padding: 0;position: absolute;width: 1px;}#sk-container-id-1 div.sk-estimator {font-family: monospace;background-color: #f0f8ff;border: 1px dotted black;border-radius: 0.25em;box-sizing: border-box;margin-bottom: 0.5em;}#sk-container-id-1 div.sk-estimator:hover {background-color: #d4ebff;}#sk-container-id-1 div.sk-parallel-item::after {content: \"\";width: 100%;border-bottom: 1px solid gray;flex-grow: 1;}#sk-container-id-1 div.sk-label:hover label.sk-toggleable__label {background-color: #d4ebff;}#sk-container-id-1 div.sk-serial::before {content: \"\";position: absolute;border-left: 1px solid gray;box-sizing: border-box;top: 0;bottom: 0;left: 50%;z-index: 0;}#sk-container-id-1 div.sk-serial {display: flex;flex-direction: column;align-items: center;background-color: white;padding-right: 0.2em;padding-left: 0.2em;position: relative;}#sk-container-id-1 div.sk-item {position: relative;z-index: 1;}#sk-container-id-1 div.sk-parallel {display: flex;align-items: stretch;justify-content: center;background-color: white;position: relative;}#sk-container-id-1 div.sk-item::before, #sk-container-id-1 div.sk-parallel-item::before {content: \"\";position: absolute;border-left: 1px solid gray;box-sizing: border-box;top: 0;bottom: 0;left: 50%;z-index: -1;}#sk-container-id-1 div.sk-parallel-item {display: flex;flex-direction: column;z-index: 1;position: relative;background-color: white;}#sk-container-id-1 div.sk-parallel-item:first-child::after {align-self: flex-end;width: 50%;}#sk-container-id-1 div.sk-parallel-item:last-child::after {align-self: flex-start;width: 50%;}#sk-container-id-1 div.sk-parallel-item:only-child::after {width: 0;}#sk-container-id-1 div.sk-dashed-wrapped {border: 1px dashed gray;margin: 0 0.4em 0.5em 0.4em;box-sizing: border-box;padding-bottom: 0.4em;background-color: white;}#sk-container-id-1 div.sk-label label {font-family: monospace;font-weight: bold;display: inline-block;line-height: 1.2em;}#sk-container-id-1 div.sk-label-container {text-align: center;}#sk-container-id-1 div.sk-container {/* jupyter's `normalize.less` sets `[hidden] { display: none; }` but bootstrap.min.css set `[hidden] { display: none !important; }` so we also need the `!important` here to be able to override the default hidden behavior on the sphinx rendered scikit-learn.org. See: https://github.com/scikit-learn/scikit-learn/issues/21755 */display: inline-block !important;position: relative;}#sk-container-id-1 div.sk-text-repr-fallback {display: none;}</style><div id=\"sk-container-id-1\" class=\"sk-top-container\"><div class=\"sk-text-repr-fallback\"><pre>LinearRegression()</pre><b>In a Jupyter environment, please rerun this cell to show the HTML representation or trust the notebook. <br />On GitHub, the HTML representation is unable to render, please try loading this page with nbviewer.org.</b></div><div class=\"sk-container\" hidden><div class=\"sk-item\"><div class=\"sk-estimator sk-toggleable\"><input class=\"sk-toggleable__control sk-hidden--visually\" id=\"sk-estimator-id-1\" type=\"checkbox\" checked><label for=\"sk-estimator-id-1\" class=\"sk-toggleable__label sk-toggleable__label-arrow\">LinearRegression</label><div class=\"sk-toggleable__content\"><pre>LinearRegression()</pre></div></div></div></div></div>"
      ],
      "text/plain": [
       "LinearRegression()"
      ]
     },
     "execution_count": 33,
     "metadata": {},
     "output_type": "execute_result"
    }
   ],
   "source": [
    "model = LinearRegression()\n",
    "model.fit(X_train, y_train)"
   ]
  },
  {
   "cell_type": "code",
   "execution_count": 34,
   "id": "a88cb10b",
   "metadata": {},
   "outputs": [],
   "source": [
    "y_pred = model.predict(X_test)"
   ]
  },
  {
   "cell_type": "code",
   "execution_count": 35,
   "id": "241b0000",
   "metadata": {},
   "outputs": [
    {
     "data": {
      "image/png": "[encoded data removed]",
      "text/plain": [
       "<Figure size 1000x600 with 1 Axes>"
      ]
     },
     "metadata": {},
     "output_type": "display_data"
    }
   ],
   "source": [
    "plt.figure(figsize=(10, 6))\n",
    "sns.scatterplot(x=y_test, y=y_pred)\n",
    "plt.plot([y.min(), y.max()], [y.min(), y.max()], 'k--', lw=2)  # Diagonal line\n",
    "plt.xlabel('Actual Income')\n",
    "plt.ylabel('Predicted Income')\n",
    "plt.title('Actual vs. Predicted Income')\n",
    "plt.show()"
   ]
  },
  {
   "cell_type": "code",
   "execution_count": 36,
   "id": "1a2d710e",
   "metadata": {},
   "outputs": [
    {
     "name": "stdout",
     "output_type": "stream",
     "text": [
      "Mean Squared Error: 2211634.0044371155\n",
      "R-squared: 0.8863894659318183\n"
     ]
    }
   ],
   "source": [
    "from sklearn.metrics import mean_squared_error, r2_score\n",
    "\n",
    "# Make predictions on the test set\n",
    "predictions = model.predict(X_test)\n",
    "\n",
    "# Evaluate the model\n",
    "mse = mean_squared_error(y_test, predictions)\n",
    "r2 = r2_score(y_test, predictions)\n",
    "\n",
    "print(f'Mean Squared Error: {mse}')\n",
    "print(f'R-squared: {r2}')"
   ]
  },
  {
   "cell_type": "code",
   "execution_count": 37,
   "id": "2e921297",
   "metadata": {
    "scrolled": true
   },
   "outputs": [
    {
     "data": {
      "text/plain": [
       "Text(0.05, 0.95, 'R-squared = 0.89')"
      ]
     },
     "execution_count": 37,
     "metadata": {},
     "output_type": "execute_result"
    },
    {
     "data": {
      "image/png": "[encoded data removed]",
      "text/plain": [
       "<Figure size 1000x700 with 1 Axes>"
      ]
     },
     "metadata": {},
     "output_type": "display_data"
    }
   ],
   "source": [
    "import matplotlib.pyplot as plt\n",
    "import seaborn as sns\n",
    "residuals = y_test - y_pred\n",
    "plt.figure(figsize=(10, 7))\n",
    "sns.residplot(x=y_pred, y=residuals, lowess=True, color=\"r\", scatter_kws={'alpha': 0.5})\n",
    "plt.axhline(y=0, color='red', linestyle='--')\n",
    "plt.xlabel('Predicted Values')\n",
    "plt.ylabel('Residuals')\n",
    "plt.title('Residual Plot with R-squared Annotation')\n",
    "\n",
    "# Annotate R-squared value\n",
    "plt.annotate(f'R-squared = {r2:.2f}', xy=(0.05, 0.95), xycoords='axes fraction', fontsize=12,\n",
    "             bbox=dict(boxstyle=\"round,pad=0.2\", fc=\"white\", ec=\"b\", lw=2))"
   ]
  },
  {
   "cell_type": "markdown",
   "id": "b775f30b",
   "metadata": {},
   "source": [
    "Cross Validation."
   ]
  },
  {
   "cell_type": "code",
   "execution_count": 38,
   "id": "1128bf88",
   "metadata": {},
   "outputs": [
    {
     "name": "stdout",
     "output_type": "stream",
     "text": [
      "Cross-validated R^2 scores: [0.89680365 0.85101506 0.7724225  0.88561199 0.89912958]\n",
      "Average R^2 score: 0.8609965556327245\n"
     ]
    }
   ],
   "source": [
    "from sklearn.model_selection import KFold, cross_val_score\n",
    "import numpy as np\n",
    "kf = KFold(n_splits=5, shuffle=True, random_state=42)\n",
    "cv_scores = cross_val_score(model, X, y, cv=kf, scoring='r2')\n",
    "\n",
    "print(\"Cross-validated R^2 scores:\", cv_scores)\n",
    "print(\"Average R^2 score:\", np.mean(cv_scores))\n"
   ]
  },
  {
   "cell_type": "markdown",
   "id": "c427b147",
   "metadata": {},
   "source": [
    "Good but u wanna be sure that about any error. For sure I am not overfitting."
   ]
  },
  {
   "cell_type": "code",
   "execution_count": 39,
   "id": "26d376a7",
   "metadata": {},
   "outputs": [
    {
     "name": "stdout",
     "output_type": "stream",
     "text": [
      "Training R-squared: 0.89\n",
      "Testing R-squared: 0.89\n"
     ]
    }
   ],
   "source": [
    "# Training score\n",
    "train_r2 = model.score(X_train, y_train)\n",
    "\n",
    "# Testing score\n",
    "test_r2 = model.score(X_test, y_test)\n",
    "\n",
    "print(f\"Training R-squared: {train_r2:.2f}\")\n",
    "print(f\"Testing R-squared: {test_r2:.2f}\")"
   ]
  },
  {
   "cell_type": "markdown",
   "id": "de685957",
   "metadata": {},
   "source": [
    "Looks that it the MSE is to high"
   ]
  },
  {
   "cell_type": "code",
   "execution_count": 40,
   "id": "913b4ef1",
   "metadata": {},
   "outputs": [
    {
     "data": {
      "text/plain": [
       "((96, 5), (96,), (72, 5), (24, 5), (72,), (24,))"
      ]
     },
     "execution_count": 40,
     "metadata": {},
     "output_type": "execute_result"
    }
   ],
   "source": [
    "X_train, X_test, y_train, y_test = train_test_split(X, y, train_size = 0.75 , random_state = 100)\n",
    "X.shape, y.shape, X_train.shape, X_test.shape, y_train.shape, y_test.shape"
   ]
  },
  {
   "cell_type": "code",
   "execution_count": 41,
   "id": "869c599d",
   "metadata": {},
   "outputs": [
    {
     "data": {
      "text/html": [
       "<style>#sk-container-id-2 {color: black;}#sk-container-id-2 pre{padding: 0;}#sk-container-id-2 div.sk-toggleable {background-color: white;}#sk-container-id-2 label.sk-toggleable__label {cursor: pointer;display: block;width: 100%;margin-bottom: 0;padding: 0.3em;box-sizing: border-box;text-align: center;}#sk-container-id-2 label.sk-toggleable__label-arrow:before {content: \"▸\";float: left;margin-right: 0.25em;color: #696969;}#sk-container-id-2 label.sk-toggleable__label-arrow:hover:before {color: black;}#sk-container-id-2 div.sk-estimator:hover label.sk-toggleable__label-arrow:before {color: black;}#sk-container-id-2 div.sk-toggleable__content {max-height: 0;max-width: 0;overflow: hidden;text-align: left;background-color: #f0f8ff;}#sk-container-id-2 div.sk-toggleable__content pre {margin: 0.2em;color: black;border-radius: 0.25em;background-color: #f0f8ff;}#sk-container-id-2 input.sk-toggleable__control:checked~div.sk-toggleable__content {max-height: 200px;max-width: 100%;overflow: auto;}#sk-container-id-2 input.sk-toggleable__control:checked~label.sk-toggleable__label-arrow:before {content: \"▾\";}#sk-container-id-2 div.sk-estimator input.sk-toggleable__control:checked~label.sk-toggleable__label {background-color: #d4ebff;}#sk-container-id-2 div.sk-label input.sk-toggleable__control:checked~label.sk-toggleable__label {background-color: #d4ebff;}#sk-container-id-2 input.sk-hidden--visually {border: 0;clip: rect(1px 1px 1px 1px);clip: rect(1px, 1px, 1px, 1px);height: 1px;margin: -1px;overflow: hidden;padding: 0;position: absolute;width: 1px;}#sk-container-id-2 div.sk-estimator {font-family: monospace;background-color: #f0f8ff;border: 1px dotted black;border-radius: 0.25em;box-sizing: border-box;margin-bottom: 0.5em;}#sk-container-id-2 div.sk-estimator:hover {background-color: #d4ebff;}#sk-container-id-2 div.sk-parallel-item::after {content: \"\";width: 100%;border-bottom: 1px solid gray;flex-grow: 1;}#sk-container-id-2 div.sk-label:hover label.sk-toggleable__label {background-color: #d4ebff;}#sk-container-id-2 div.sk-serial::before {content: \"\";position: absolute;border-left: 1px solid gray;box-sizing: border-box;top: 0;bottom: 0;left: 50%;z-index: 0;}#sk-container-id-2 div.sk-serial {display: flex;flex-direction: column;align-items: center;background-color: white;padding-right: 0.2em;padding-left: 0.2em;position: relative;}#sk-container-id-2 div.sk-item {position: relative;z-index: 1;}#sk-container-id-2 div.sk-parallel {display: flex;align-items: stretch;justify-content: center;background-color: white;position: relative;}#sk-container-id-2 div.sk-item::before, #sk-container-id-2 div.sk-parallel-item::before {content: \"\";position: absolute;border-left: 1px solid gray;box-sizing: border-box;top: 0;bottom: 0;left: 50%;z-index: -1;}#sk-container-id-2 div.sk-parallel-item {display: flex;flex-direction: column;z-index: 1;position: relative;background-color: white;}#sk-container-id-2 div.sk-parallel-item:first-child::after {align-self: flex-end;width: 50%;}#sk-container-id-2 div.sk-parallel-item:last-child::after {align-self: flex-start;width: 50%;}#sk-container-id-2 div.sk-parallel-item:only-child::after {width: 0;}#sk-container-id-2 div.sk-dashed-wrapped {border: 1px dashed gray;margin: 0 0.4em 0.5em 0.4em;box-sizing: border-box;padding-bottom: 0.4em;background-color: white;}#sk-container-id-2 div.sk-label label {font-family: monospace;font-weight: bold;display: inline-block;line-height: 1.2em;}#sk-container-id-2 div.sk-label-container {text-align: center;}#sk-container-id-2 div.sk-container {/* jupyter's `normalize.less` sets `[hidden] { display: none; }` but bootstrap.min.css set `[hidden] { display: none !important; }` so we also need the `!important` here to be able to override the default hidden behavior on the sphinx rendered scikit-learn.org. See: https://github.com/scikit-learn/scikit-learn/issues/21755 */display: inline-block !important;position: relative;}#sk-container-id-2 div.sk-text-repr-fallback {display: none;}</style><div id=\"sk-container-id-2\" class=\"sk-top-container\"><div class=\"sk-text-repr-fallback\"><pre>LinearRegression()</pre><b>In a Jupyter environment, please rerun this cell to show the HTML representation or trust the notebook. <br />On GitHub, the HTML representation is unable to render, please try loading this page with nbviewer.org.</b></div><div class=\"sk-container\" hidden><div class=\"sk-item\"><div class=\"sk-estimator sk-toggleable\"><input class=\"sk-toggleable__control sk-hidden--visually\" id=\"sk-estimator-id-2\" type=\"checkbox\" checked><label for=\"sk-estimator-id-2\" class=\"sk-toggleable__label sk-toggleable__label-arrow\">LinearRegression</label><div class=\"sk-toggleable__content\"><pre>LinearRegression()</pre></div></div></div></div></div>"
      ],
      "text/plain": [
       "LinearRegression()"
      ]
     },
     "execution_count": 41,
     "metadata": {},
     "output_type": "execute_result"
    }
   ],
   "source": [
    "model = LinearRegression()\n",
    "model.fit(X_train, y_train)"
   ]
  },
  {
   "cell_type": "code",
   "execution_count": 42,
   "id": "94e70826",
   "metadata": {},
   "outputs": [
    {
     "name": "stdout",
     "output_type": "stream",
     "text": [
      "Mean Squared Error: 2342743.840454918\n",
      "R-squared: 0.8678745062319215\n"
     ]
    }
   ],
   "source": [
    "predictions = model.predict(X_test)\n",
    "\n",
    "# Evaluate the model\n",
    "mse = mean_squared_error(y_test, predictions)\n",
    "r2 = r2_score(y_test, predictions)\n",
    "\n",
    "print(f'Mean Squared Error: {mse}')\n",
    "\n",
    "print(f'R-squared: {r2}')"
   ]
  },
  {
   "cell_type": "code",
   "execution_count": 43,
   "id": "6e7bc29f",
   "metadata": {},
   "outputs": [
    {
     "name": "stdout",
     "output_type": "stream",
     "text": [
      "Cross-validated R^2 scores: [0.89680365 0.85101506 0.7724225  0.88561199 0.89912958]\n",
      "Average R^2 score: 0.8609965556327245\n"
     ]
    }
   ],
   "source": [
    "kf = KFold(n_splits=5, shuffle=True, random_state=42)\n",
    "cv_scores = cross_val_score(model, X, y, cv=kf, scoring='r2')\n",
    "\n",
    "print(\"Cross-validated R^2 scores:\", cv_scores)\n",
    "print(\"Average R^2 score:\", np.mean(cv_scores))\n"
   ]
  },
  {
   "cell_type": "code",
   "execution_count": 44,
   "id": "0f26b91a",
   "metadata": {},
   "outputs": [
    {
     "data": {
      "text/plain": [
       "((96, 5), (96,), (72, 5), (24, 5), (72,), (24,))"
      ]
     },
     "execution_count": 44,
     "metadata": {},
     "output_type": "execute_result"
    }
   ],
   "source": [
    "X_train, X_test, y_train, y_test = train_test_split(X, y, train_size = 0.75 , random_state = 100)\n",
    "X.shape, y.shape, X_train.shape, X_test.shape, y_train.shape, y_test.shape"
   ]
  },
  {
   "cell_type": "code",
   "execution_count": 45,
   "id": "2e62b3b8",
   "metadata": {},
   "outputs": [
    {
     "name": "stdout",
     "output_type": "stream",
     "text": [
      "Mean Squared Error: 2342743.840454918\n",
      "R-squared: 0.8678745062319215\n"
     ]
    }
   ],
   "source": [
    "predictions = model.predict(X_test)\n",
    "\n",
    "# Evaluate the model\n",
    "mse = mean_squared_error(y_test, predictions)\n",
    "r2 = r2_score(y_test, predictions)\n",
    "\n",
    "print(f'Mean Squared Error: {mse}')\n",
    "\n",
    "print(f'R-squared: {r2}')"
   ]
  },
  {
   "cell_type": "code",
   "execution_count": 46,
   "id": "a99ba903",
   "metadata": {},
   "outputs": [
    {
     "name": "stdout",
     "output_type": "stream",
     "text": [
      "Mean Squared Error: 2342743.840454918\n",
      "R-squared: 0.8678745062319215\n"
     ]
    }
   ],
   "source": [
    "X_train, X_test, y_train, y_test = train_test_split(X, y, train_size = 0.75 , random_state = 100)\n",
    "X.shape, y.shape, X_train.shape, X_test.shape, y_train.shape, y_test.shape\n",
    "predictions = model.predict(X_test)\n",
    "\n",
    "# Evaluate the model\n",
    "mse = mean_squared_error(y_test, predictions)\n",
    "r2 = r2_score(y_test, predictions)\n",
    "\n",
    "print(f'Mean Squared Error: {mse}')\n",
    "\n",
    "print(f'R-squared: {r2}')\n"
   ]
  },
  {
   "cell_type": "markdown",
   "id": "3dab5644",
   "metadata": {},
   "source": [
    "Too much error. We can try an attempt to Polynomial Regression and pass directly to random forests. We see an improvement."
   ]
  },
  {
   "cell_type": "code",
   "execution_count": 47,
   "id": "287d01a2",
   "metadata": {},
   "outputs": [
    {
     "name": "stdout",
     "output_type": "stream",
     "text": [
      "Mean Squared Error: 1354198.781963362\n",
      "R-squared: 0.9236262285114809\n"
     ]
    }
   ],
   "source": [
    "from sklearn.preprocessing import PolynomialFeatures\n",
    "from sklearn.pipeline import make_pipeline\n",
    "from sklearn.linear_model import LinearRegression\n",
    "\n",
    "# Create a polynomial regression model for comparison\n",
    "polynomial_features = PolynomialFeatures(degree=2)  # you can increase the degree based on the dataset\n",
    "linear_regression = LinearRegression()\n",
    "model = make_pipeline(polynomial_features, linear_regression)\n",
    "model.fit(X_train, y_train)\n",
    "\n",
    "y_pred = model.predict(X_test)\n",
    "mse = mean_squared_error(y_test, y_pred)\n",
    "r2 = r2_score(y_test, y_pred)\n",
    "print(f'Mean Squared Error: {mse}')\n",
    "\n",
    "print(f'R-squared: {r2}')\n"
   ]
  },
  {
   "cell_type": "code",
   "execution_count": 48,
   "id": "88d03323",
   "metadata": {},
   "outputs": [
    {
     "data": {
      "text/plain": [
       "(-304634717.71522,\n",
       " array([ 0.00000000e+00, -2.58746538e+04,  7.11793832e+03, -2.34332324e+04,\n",
       "        -2.76253331e-07,  1.15741326e+04,  1.54379116e+03,  8.43549534e+02,\n",
       "         2.52924298e+03, -1.29373269e+05,  3.34506414e+02,  7.11793832e+03,\n",
       "         1.55983467e+03,  3.55896916e+04, -9.49306895e+01,  2.34332324e+04,\n",
       "        -1.17166162e+05,  3.13435437e+02, -2.50370893e-33,  5.78706629e+04,\n",
       "        -7.43111363e+01]))"
      ]
     },
     "execution_count": 48,
     "metadata": {},
     "output_type": "execute_result"
    }
   ],
   "source": [
    "linear_regression.intercept_, linear_regression.coef_"
   ]
  },
  {
   "cell_type": "code",
   "execution_count": 49,
   "id": "bb82df46",
   "metadata": {},
   "outputs": [
    {
     "data": {
      "image/png": "[encoded data removed]",
      "text/plain": [
       "<Figure size 1000x600 with 1 Axes>"
      ]
     },
     "metadata": {},
     "output_type": "display_data"
    }
   ],
   "source": [
    "plt.figure(figsize=(10, 6))\n",
    "sns.scatterplot(x=y_test, y=y_pred)\n",
    "plt.plot([y.min(), y.max()], [y.min(), y.max()], 'k--', lw=2)  # Diagonal line\n",
    "plt.xlabel('Actual Income')\n",
    "plt.ylabel('Predicted Income')\n",
    "plt.title('Actual vs. Predicted Income')\n",
    "plt.show()"
   ]
  },
  {
   "cell_type": "markdown",
   "id": "ceb47080",
   "metadata": {},
   "source": [
    "Now we try random forest, and see how the income in Germany can variate by education level and see if we can reduce the error. This has too much error still."
   ]
  },
  {
   "cell_type": "code",
   "execution_count": 50,
   "id": "4e799a41",
   "metadata": {},
   "outputs": [],
   "source": [
    "import numpy as np\n",
    "import pandas as pd\n",
    "from sklearn.model_selection import train_test_split\n",
    "from sklearn.ensemble import RandomForestRegressor\n",
    "from sklearn.metrics import mean_squared_error, r2_score"
   ]
  },
  {
   "cell_type": "code",
   "execution_count": 51,
   "id": "db1ea712",
   "metadata": {},
   "outputs": [
    {
     "name": "stdout",
     "output_type": "stream",
     "text": [
      "Training features size: 76, Training labels size: 76\n",
      "Testing features size: 20, Testing labels size: 20\n"
     ]
    }
   ],
   "source": [
    "X_train, X_test, y_train, y_test = train_test_split(X, y, test_size=0.2, random_state=42)\n",
    "rf_model = RandomForestRegressor(n_estimators=50, random_state=42)  # 100 trees in the forest\n",
    "rf_model.fit(X_train, y_train)\n",
    "# Make sure the lengths match\n",
    "print(f\"Training features size: {X_train.shape[0]}, Training labels size: {y_train.shape[0]}\")\n",
    "print(f\"Testing features size: {X_test.shape[0]}, Testing labels size: {y_test.shape[0]}\")"
   ]
  },
  {
   "cell_type": "code",
   "execution_count": 52,
   "id": "1eef62af",
   "metadata": {},
   "outputs": [
    {
     "name": "stdout",
     "output_type": "stream",
     "text": [
      "Mean Squared Error: 665330.9769400001\n",
      "R^2 Score: 0.9781539304399485\n"
     ]
    }
   ],
   "source": [
    "y_pred = rf_model.predict(X_test)\n",
    "mse = mean_squared_error(y_test, y_pred)\n",
    "r2 = r2_score(y_test, y_pred)\n",
    "\n",
    "print(f\"Mean Squared Error: {mse}\")\n",
    "print(f\"R^2 Score: {r2}\")"
   ]
  },
  {
   "cell_type": "code",
   "execution_count": null,
   "id": "2f020ca6",
   "metadata": {},
   "outputs": [],
   "source": [
    "plt.figure(figsize=(10, 6))\n",
    "sns.scatterplot(x=y_test, y=y_pred)\n",
    "plt.plot([y.min(), y.max()], [y.min(), y.max()], 'k--', lw=2)  # Diagonal line\n",
    "plt.xlabel('Actual Income')\n",
    "plt.ylabel('Predicted Income')\n",
    "plt.title('Actual vs. Predicted Income')\n",
    "plt.show()"
   ]
  },
  {
   "cell_type": "markdown",
   "id": "10bc4fed",
   "metadata": {},
   "source": [
    "## Much much better."
   ]
  },
  {
   "cell_type": "code",
   "execution_count": 55,
   "id": "9a653615",
   "metadata": {},
   "outputs": [
    {
     "data": {
      "text/plain": [
       "Text(0.05, 0.95, 'R-squared = 0.98')"
      ]
     },
     "execution_count": 55,
     "metadata": {},
     "output_type": "execute_result"
    },
    {
     "data": {
      "image/png": "[encoded data removed]",
      "text/plain": [
       "<Figure size 1000x700 with 1 Axes>"
      ]
     },
     "metadata": {},
     "output_type": "display_data"
    }
   ],
   "source": [
    "import matplotlib.pyplot as plt\n",
    "import seaborn as sns\n",
    "residuals = y_test - y_pred\n",
    "plt.figure(figsize=(10, 7))\n",
    "sns.residplot(x=y_pred, y=residuals, lowess=True, color=\"r\", scatter_kws={'alpha': 0.5})\n",
    "plt.axhline(y=0, color='red', linestyle='--')\n",
    "plt.xlabel('Predicted Values')\n",
    "plt.ylabel('Residuals')\n",
    "plt.title('Residual Plot with R-squared Annotation')\n",
    "\n",
    "# Annotate R-squared value\n",
    "plt.annotate(f'R-squared = {r2:.2f}', xy=(0.05, 0.95), xycoords='axes fraction', fontsize=12,\n",
    "             bbox=dict(boxstyle=\"round,pad=0.2\", fc=\"white\", ec=\"b\", lw=2))"
   ]
  },
  {
   "cell_type": "code",
   "execution_count": 56,
   "id": "e7e60564",
   "metadata": {},
   "outputs": [
    {
     "data": {
      "image/png": "[encoded data removed]",
      "text/plain": [
       "<Figure size 1000x600 with 1 Axes>"
      ]
     },
     "metadata": {},
     "output_type": "display_data"
    }
   ],
   "source": [
    "plt.figure(figsize=(10, 6))\n",
    "sns.scatterplot(x=y_test, y=y_pred)\n",
    "plt.plot([y.min(), y.max()], [y.min(), y.max()], 'k--', lw=2)  # Diagonal line\n",
    "plt.xlabel('Actual Income')\n",
    "plt.ylabel('Predicted Income')\n",
    "plt.title('Actual vs. Predicted Income')\n",
    "plt.show()"
   ]
  },
  {
   "cell_type": "markdown",
   "id": "0aa7d6a5",
   "metadata": {},
   "source": [
    "There is some error but it is far far better. It can have a variation at most of 500 euros. That probally we can reduce with Hyperparameter tuning."
   ]
  },
  {
   "cell_type": "code",
   "execution_count": 57,
   "id": "ac7852d8",
   "metadata": {},
   "outputs": [],
   "source": [
    "import numpy as np\n",
    "import pandas as pd\n",
    "from sklearn.model_selection import train_test_split, GridSearchCV\n",
    "from sklearn.ensemble import RandomForestRegressor\n",
    "from sklearn.metrics import mean_squared_error, r2_score\n",
    "# Define the parameter grid\n",
    "\n",
    "param_grid = {\n",
    "    'n_estimators': [100, 125, 200],  # Number of trees in the forest\n",
    "    'max_features':  [2, 5, 6, 8],  # Number of features to consider at every split\n",
    "    'max_depth':[None, 10, 20, 30],  # Maximum number of levels in tree\n",
    "    'min_samples_split': [2, 5, 10],  # Minimum number of samples required to split a node\n",
    "    'min_samples_leaf': [1, 2, 4]  # Minimum number of samples required at each leaf node\n",
    "}\n",
    "\n",
    "X_train, X_test, y_train, y_test = train_test_split(X, y, test_size=0.2, random_state=42)\n",
    "# Create the base model to tune\n",
    "rf = RandomForestRegressor(random_state=42)\n",
    "\n",
    "# Set up the GridSearchCV object\n",
    "grid_search = GridSearchCV(estimator=rf, param_grid=param_grid, cv=3, verbose=2, n_jobs=-1)\n"
   ]
  },
  {
   "cell_type": "code",
   "execution_count": 58,
   "id": "49da0542",
   "metadata": {},
   "outputs": [
    {
     "name": "stdout",
     "output_type": "stream",
     "text": [
      "Fitting 3 folds for each of 432 candidates, totalling 1296 fits\n"
     ]
    },
    {
     "data": {
      "text/html": [
       "<style>#sk-container-id-3 {color: black;}#sk-container-id-3 pre{padding: 0;}#sk-container-id-3 div.sk-toggleable {background-color: white;}#sk-container-id-3 label.sk-toggleable__label {cursor: pointer;display: block;width: 100%;margin-bottom: 0;padding: 0.3em;box-sizing: border-box;text-align: center;}#sk-container-id-3 label.sk-toggleable__label-arrow:before {content: \"▸\";float: left;margin-right: 0.25em;color: #696969;}#sk-container-id-3 label.sk-toggleable__label-arrow:hover:before {color: black;}#sk-container-id-3 div.sk-estimator:hover label.sk-toggleable__label-arrow:before {color: black;}#sk-container-id-3 div.sk-toggleable__content {max-height: 0;max-width: 0;overflow: hidden;text-align: left;background-color: #f0f8ff;}#sk-container-id-3 div.sk-toggleable__content pre {margin: 0.2em;color: black;border-radius: 0.25em;background-color: #f0f8ff;}#sk-container-id-3 input.sk-toggleable__control:checked~div.sk-toggleable__content {max-height: 200px;max-width: 100%;overflow: auto;}#sk-container-id-3 input.sk-toggleable__control:checked~label.sk-toggleable__label-arrow:before {content: \"▾\";}#sk-container-id-3 div.sk-estimator input.sk-toggleable__control:checked~label.sk-toggleable__label {background-color: #d4ebff;}#sk-container-id-3 div.sk-label input.sk-toggleable__control:checked~label.sk-toggleable__label {background-color: #d4ebff;}#sk-container-id-3 input.sk-hidden--visually {border: 0;clip: rect(1px 1px 1px 1px);clip: rect(1px, 1px, 1px, 1px);height: 1px;margin: -1px;overflow: hidden;padding: 0;position: absolute;width: 1px;}#sk-container-id-3 div.sk-estimator {font-family: monospace;background-color: #f0f8ff;border: 1px dotted black;border-radius: 0.25em;box-sizing: border-box;margin-bottom: 0.5em;}#sk-container-id-3 div.sk-estimator:hover {background-color: #d4ebff;}#sk-container-id-3 div.sk-parallel-item::after {content: \"\";width: 100%;border-bottom: 1px solid gray;flex-grow: 1;}#sk-container-id-3 div.sk-label:hover label.sk-toggleable__label {background-color: #d4ebff;}#sk-container-id-3 div.sk-serial::before {content: \"\";position: absolute;border-left: 1px solid gray;box-sizing: border-box;top: 0;bottom: 0;left: 50%;z-index: 0;}#sk-container-id-3 div.sk-serial {display: flex;flex-direction: column;align-items: center;background-color: white;padding-right: 0.2em;padding-left: 0.2em;position: relative;}#sk-container-id-3 div.sk-item {position: relative;z-index: 1;}#sk-container-id-3 div.sk-parallel {display: flex;align-items: stretch;justify-content: center;background-color: white;position: relative;}#sk-container-id-3 div.sk-item::before, #sk-container-id-3 div.sk-parallel-item::before {content: \"\";position: absolute;border-left: 1px solid gray;box-sizing: border-box;top: 0;bottom: 0;left: 50%;z-index: -1;}#sk-container-id-3 div.sk-parallel-item {display: flex;flex-direction: column;z-index: 1;position: relative;background-color: white;}#sk-container-id-3 div.sk-parallel-item:first-child::after {align-self: flex-end;width: 50%;}#sk-container-id-3 div.sk-parallel-item:last-child::after {align-self: flex-start;width: 50%;}#sk-container-id-3 div.sk-parallel-item:only-child::after {width: 0;}#sk-container-id-3 div.sk-dashed-wrapped {border: 1px dashed gray;margin: 0 0.4em 0.5em 0.4em;box-sizing: border-box;padding-bottom: 0.4em;background-color: white;}#sk-container-id-3 div.sk-label label {font-family: monospace;font-weight: bold;display: inline-block;line-height: 1.2em;}#sk-container-id-3 div.sk-label-container {text-align: center;}#sk-container-id-3 div.sk-container {/* jupyter's `normalize.less` sets `[hidden] { display: none; }` but bootstrap.min.css set `[hidden] { display: none !important; }` so we also need the `!important` here to be able to override the default hidden behavior on the sphinx rendered scikit-learn.org. See: https://github.com/scikit-learn/scikit-learn/issues/21755 */display: inline-block !important;position: relative;}#sk-container-id-3 div.sk-text-repr-fallback {display: none;}</style><div id=\"sk-container-id-3\" class=\"sk-top-container\"><div class=\"sk-text-repr-fallback\"><pre>GridSearchCV(cv=3, estimator=RandomForestRegressor(random_state=42), n_jobs=-1,\n",
       "             param_grid={&#x27;max_depth&#x27;: [None, 10, 20, 30],\n",
       "                         &#x27;max_features&#x27;: [2, 5, 6, 8],\n",
       "                         &#x27;min_samples_leaf&#x27;: [1, 2, 4],\n",
       "                         &#x27;min_samples_split&#x27;: [2, 5, 10],\n",
       "                         &#x27;n_estimators&#x27;: [100, 125, 200]},\n",
       "             verbose=2)</pre><b>In a Jupyter environment, please rerun this cell to show the HTML representation or trust the notebook. <br />On GitHub, the HTML representation is unable to render, please try loading this page with nbviewer.org.</b></div><div class=\"sk-container\" hidden><div class=\"sk-item sk-dashed-wrapped\"><div class=\"sk-label-container\"><div class=\"sk-label sk-toggleable\"><input class=\"sk-toggleable__control sk-hidden--visually\" id=\"sk-estimator-id-3\" type=\"checkbox\" ><label for=\"sk-estimator-id-3\" class=\"sk-toggleable__label sk-toggleable__label-arrow\">GridSearchCV</label><div class=\"sk-toggleable__content\"><pre>GridSearchCV(cv=3, estimator=RandomForestRegressor(random_state=42), n_jobs=-1,\n",
       "             param_grid={&#x27;max_depth&#x27;: [None, 10, 20, 30],\n",
       "                         &#x27;max_features&#x27;: [2, 5, 6, 8],\n",
       "                         &#x27;min_samples_leaf&#x27;: [1, 2, 4],\n",
       "                         &#x27;min_samples_split&#x27;: [2, 5, 10],\n",
       "                         &#x27;n_estimators&#x27;: [100, 125, 200]},\n",
       "             verbose=2)</pre></div></div></div><div class=\"sk-parallel\"><div class=\"sk-parallel-item\"><div class=\"sk-item\"><div class=\"sk-label-container\"><div class=\"sk-label sk-toggleable\"><input class=\"sk-toggleable__control sk-hidden--visually\" id=\"sk-estimator-id-4\" type=\"checkbox\" ><label for=\"sk-estimator-id-4\" class=\"sk-toggleable__label sk-toggleable__label-arrow\">estimator: RandomForestRegressor</label><div class=\"sk-toggleable__content\"><pre>RandomForestRegressor(random_state=42)</pre></div></div></div><div class=\"sk-serial\"><div class=\"sk-item\"><div class=\"sk-estimator sk-toggleable\"><input class=\"sk-toggleable__control sk-hidden--visually\" id=\"sk-estimator-id-5\" type=\"checkbox\" ><label for=\"sk-estimator-id-5\" class=\"sk-toggleable__label sk-toggleable__label-arrow\">RandomForestRegressor</label><div class=\"sk-toggleable__content\"><pre>RandomForestRegressor(random_state=42)</pre></div></div></div></div></div></div></div></div></div></div>"
      ],
      "text/plain": [
       "GridSearchCV(cv=3, estimator=RandomForestRegressor(random_state=42), n_jobs=-1,\n",
       "             param_grid={'max_depth': [None, 10, 20, 30],\n",
       "                         'max_features': [2, 5, 6, 8],\n",
       "                         'min_samples_leaf': [1, 2, 4],\n",
       "                         'min_samples_split': [2, 5, 10],\n",
       "                         'n_estimators': [100, 125, 200]},\n",
       "             verbose=2)"
      ]
     },
     "execution_count": 58,
     "metadata": {},
     "output_type": "execute_result"
    }
   ],
   "source": [
    "grid_search.fit(X_train, y_train)"
   ]
  },
  {
   "cell_type": "code",
   "execution_count": 59,
   "id": "60b7d7ba",
   "metadata": {},
   "outputs": [
    {
     "name": "stdout",
     "output_type": "stream",
     "text": [
      "Best parameters: {'max_depth': None, 'max_features': 5, 'min_samples_leaf': 1, 'min_samples_split': 2, 'n_estimators': 100}\n"
     ]
    }
   ],
   "source": [
    "print(\"Best parameters:\", grid_search.best_params_)\n",
    "# Use the best model to make predictions"
   ]
  },
  {
   "cell_type": "code",
   "execution_count": 60,
   "id": "7e97412f",
   "metadata": {
    "scrolled": true
   },
   "outputs": [
    {
     "name": "stdout",
     "output_type": "stream",
     "text": [
      "Mean Squared Error: 650654.511565\n",
      "R^2 Score: 0.9786358305687423\n"
     ]
    }
   ],
   "source": [
    "# Evaluate the model\n",
    "best_rf = grid_search.best_estimator_\n",
    "y_pred = best_rf.predict(X_test)\n",
    "mse = mean_squared_error(y_test, y_pred)\n",
    "r2 = r2_score(y_test, y_pred)\n",
    "print(f\"Mean Squared Error: {mse}\")\n",
    "print(f\"R^2 Score: {r2}\")\n",
    "\n"
   ]
  },
  {
   "cell_type": "markdown",
   "id": "4852200c",
   "metadata": {},
   "source": [
    "OK. This is not improving."
   ]
  },
  {
   "cell_type": "code",
   "execution_count": 61,
   "id": "04358729",
   "metadata": {},
   "outputs": [],
   "source": [
    "X_train, X_test, y_train, y_test = train_test_split(X, y, test_size=0.25, random_state=42)"
   ]
  },
  {
   "cell_type": "code",
   "execution_count": 62,
   "id": "1ebf9a41",
   "metadata": {},
   "outputs": [
    {
     "name": "stdout",
     "output_type": "stream",
     "text": [
      "Fitting 3 folds for each of 432 candidates, totalling 1296 fits\n",
      "Mean Squared Error: 556275.971445833\n",
      "R^2 Score: 0.9829484493488947\n"
     ]
    }
   ],
   "source": [
    "param_grid = {\n",
    "    'n_estimators': [100, 125, 200],  # Number of trees in the forest\n",
    "    'max_features':  [2, 5, 6, 8],  # Number of features to consider at every split\n",
    "    'max_depth':[None, 10, 20, 30],  # Maximum number of levels in tree\n",
    "    'min_samples_split': [2, 5, 10],  # Minimum number of samples required to split a node\n",
    "    'min_samples_leaf': [1, 2, 4]  # Minimum number of samples required at each leaf node\n",
    "}\n",
    "# Create the base model to tune\n",
    "rf = RandomForestRegressor(random_state=42)\n",
    "\n",
    "# Set up the GridSearchCV object\n",
    "grid_search = GridSearchCV(estimator=rf, param_grid=param_grid, cv=3, verbose=2, n_jobs=-1)\n",
    "grid_search.fit(X_train, y_train)\n",
    "best_rf = grid_search.best_estimator_\n",
    "y_pred = best_rf.predict(X_test)\n",
    "mse = mean_squared_error(y_test, y_pred)\n",
    "r2 = r2_score(y_test, y_pred)\n",
    "print(f\"Mean Squared Error: {mse}\")\n",
    "print(f\"R^2 Score: {r2}\")\n"
   ]
  },
  {
   "cell_type": "markdown",
   "id": "7c7a040e",
   "metadata": {},
   "source": [
    "The result is the best we are able to achieve. Let us see the residual plot."
   ]
  },
  {
   "cell_type": "code",
   "execution_count": 63,
   "id": "07dadd80",
   "metadata": {},
   "outputs": [
    {
     "data": {
      "text/plain": [
       "Text(0.05, 0.95, 'R-squared = 0.98')"
      ]
     },
     "execution_count": 63,
     "metadata": {},
     "output_type": "execute_result"
    },
    {
     "data": {
      "image/png": "[encoded data removed]",
      "text/plain": [
       "<Figure size 1000x700 with 1 Axes>"
      ]
     },
     "metadata": {},
     "output_type": "display_data"
    }
   ],
   "source": [
    "residuals = y_test - y_pred\n",
    "plt.figure(figsize=(10, 7))\n",
    "sns.residplot(x=y_pred, y=residuals, lowess=True, color=\"r\", scatter_kws={'alpha': 0.5})\n",
    "plt.axhline(y=0, color='red', linestyle='--')\n",
    "plt.xlabel('Predicted Values')\n",
    "plt.ylabel('Residuals')\n",
    "plt.title('Residual Plot with R-squared Annotation')\n",
    "plt.annotate(f'R-squared = {r2:.2f}', xy=(0.05, 0.95), xycoords='axes fraction', fontsize=12,\n",
    "             bbox=dict(boxstyle=\"round,pad=0.2\", fc=\"white\", ec=\"b\", lw=2))"
   ]
  },
  {
   "cell_type": "markdown",
   "id": "2ce7a292",
   "metadata": {},
   "source": [
    "The error is still big for part but far better then before."
   ]
  },
  {
   "cell_type": "code",
   "execution_count": 64,
   "id": "0873e626",
   "metadata": {},
   "outputs": [],
   "source": [
    "X_train, X_test, y_train, y_test = train_test_split(X, y, test_size=0.3, random_state=42)"
   ]
  },
  {
   "cell_type": "code",
   "execution_count": 65,
   "id": "1507c463",
   "metadata": {},
   "outputs": [
    {
     "name": "stdout",
     "output_type": "stream",
     "text": [
      "Best parameters: {'max_depth': None, 'max_features': 5, 'min_samples_leaf': 1, 'min_samples_split': 2, 'n_estimators': 100}\n",
      "Fitting 3 folds for each of 432 candidates, totalling 1296 fits\n",
      "Mean Squared Error: 596135.7372413789\n",
      "R^2 Score: 0.9799612503765716\n"
     ]
    }
   ],
   "source": [
    "\n",
    "# Create the base model to tune\n",
    "param_grid = {\n",
    "    'n_estimators': [100, 125, 200],  # Number of trees in the forest\n",
    "    'max_features':  [2, 5, 6, 8],  # Number of features to consider at every split\n",
    "    'max_depth':[None, 10, 20, 30],  # Maximum number of levels in tree\n",
    "    'min_samples_split': [2, 5, 10],  # Minimum number of samples required to split a node\n",
    "    'min_samples_leaf': [1, 2, 4]  # Minimum number of samples required at each leaf node\n",
    "}\n",
    "rf = RandomForestRegressor(random_state=42)\n",
    "print(\"Best parameters:\", grid_search.best_params_)\n",
    "# Set up the GridSearchCV object\n",
    "grid_search = GridSearchCV(estimator=rf, param_grid=param_grid, cv=3, verbose=2, n_jobs=-1)\n",
    "grid_search.fit(X_train, y_train)\n",
    "best_rf = grid_search.best_estimator_\n",
    "y_pred = best_rf.predict(X_test)\n",
    "mse = mean_squared_error(y_test, y_pred)\n",
    "r2 = r2_score(y_test, y_pred)\n",
    "print(f\"Mean Squared Error: {mse}\")\n",
    "print(f\"R^2 Score: {r2}\")\n"
   ]
  },
  {
   "cell_type": "code",
   "execution_count": 66,
   "id": "3f767654",
   "metadata": {},
   "outputs": [],
   "source": [
    "# Using KFold for more detailed setup\n",
    "kf = KFold(n_splits=5, shuffle=True, random_state=42)\n",
    "# Perform cross-validation\n",
    "cv_scores = cross_val_score(rf, X, y, cv=kf)\n"
   ]
  },
  {
   "cell_type": "code",
   "execution_count": 67,
   "id": "288fa011",
   "metadata": {},
   "outputs": [
    {
     "name": "stdout",
     "output_type": "stream",
     "text": [
      "Cross-validation scores: [0.98295525 0.97726116 0.92677143 0.96719637 0.97646628]\n",
      "Average score: 0.9661300972506528\n"
     ]
    }
   ],
   "source": [
    "print(\"Cross-validation scores:\", cv_scores)\n",
    "print(\"Average score:\", np.mean(cv_scores))"
   ]
  },
  {
   "cell_type": "markdown",
   "id": "ea04ca88",
   "metadata": {},
   "source": [
    "Now since suppose that I want classify people for income and see theri education, always in Germany. Low income, medium income, upper income. Quantile cut is used to divide by three parts the annual income."
   ]
  },
  {
   "cell_type": "code",
   "execution_count": 68,
   "id": "09a70aab",
   "metadata": {},
   "outputs": [
    {
     "name": "stderr",
     "output_type": "stream",
     "text": [
      "C:\\Users\\giorg\\AppData\\Local\\Temp\\ipykernel_34080\\3032973616.py:4: SettingWithCopyWarning: \n",
      "A value is trying to be set on a copy of a slice from a DataFrame.\n",
      "Try using .loc[row_indexer,col_indexer] = value instead\n",
      "\n",
      "See the caveats in the documentation: https://pandas.pydata.org/pandas-docs/stable/user_guide/indexing.html#returning-a-view-versus-a-copy\n",
      "  aggregated_df['Income_Category'] = copy_income_by_category\n"
     ]
    },
    {
     "data": {
      "text/html": [
       "<div>\n",
       "<style scoped>\n",
       "    .dataframe tbody tr th:only-of-type {\n",
       "        vertical-align: middle;\n",
       "    }\n",
       "\n",
       "    .dataframe tbody tr th {\n",
       "        vertical-align: top;\n",
       "    }\n",
       "\n",
       "    .dataframe thead th {\n",
       "        text-align: right;\n",
       "    }\n",
       "</style>\n",
       "<table border=\"1\" class=\"dataframe\">\n",
       "  <thead>\n",
       "    <tr style=\"text-align: right;\">\n",
       "      <th></th>\n",
       "      <th>Isced11</th>\n",
       "      <th>Sex</th>\n",
       "      <th>Age</th>\n",
       "      <th>Year</th>\n",
       "      <th>Gdp_Capita</th>\n",
       "      <th>Income_Category</th>\n",
       "    </tr>\n",
       "  </thead>\n",
       "  <tbody>\n",
       "    <tr>\n",
       "      <th>40</th>\n",
       "      <td>0</td>\n",
       "      <td>0</td>\n",
       "      <td>0</td>\n",
       "      <td>2016</td>\n",
       "      <td>45085.649246</td>\n",
       "      <td>Low</td>\n",
       "    </tr>\n",
       "    <tr>\n",
       "      <th>41</th>\n",
       "      <td>0</td>\n",
       "      <td>0</td>\n",
       "      <td>0</td>\n",
       "      <td>2017</td>\n",
       "      <td>47778.270414</td>\n",
       "      <td>Low</td>\n",
       "    </tr>\n",
       "    <tr>\n",
       "      <th>42</th>\n",
       "      <td>0</td>\n",
       "      <td>0</td>\n",
       "      <td>0</td>\n",
       "      <td>2018</td>\n",
       "      <td>51295.027769</td>\n",
       "      <td>Low</td>\n",
       "    </tr>\n",
       "    <tr>\n",
       "      <th>43</th>\n",
       "      <td>0</td>\n",
       "      <td>0</td>\n",
       "      <td>0</td>\n",
       "      <td>2019</td>\n",
       "      <td>50081.498124</td>\n",
       "      <td>Low</td>\n",
       "    </tr>\n",
       "    <tr>\n",
       "      <th>44</th>\n",
       "      <td>0</td>\n",
       "      <td>0</td>\n",
       "      <td>0</td>\n",
       "      <td>2020</td>\n",
       "      <td>50021.939564</td>\n",
       "      <td>Medium</td>\n",
       "    </tr>\n",
       "  </tbody>\n",
       "</table>\n",
       "</div>"
      ],
      "text/plain": [
       "    Isced11  Sex  Age  Year    Gdp_Capita Income_Category\n",
       "40        0    0    0  2016  45085.649246             Low\n",
       "41        0    0    0  2017  47778.270414             Low\n",
       "42        0    0    0  2018  51295.027769             Low\n",
       "43        0    0    0  2019  50081.498124             Low\n",
       "44        0    0    0  2020  50021.939564          Medium"
      ]
     },
     "execution_count": 68,
     "metadata": {},
     "output_type": "execute_result"
    }
   ],
   "source": [
    "select_income = aggregated_df['Income'].copy()\n",
    "income_by_category = pd.qcut(select_income, q=3, labels=[\"Low\", \"Medium\", \"High\"])\n",
    "copy_income_by_category = income_by_category.copy()\n",
    "aggregated_df['Income_Category'] = copy_income_by_category\n",
    "clean_df = aggregated_df.drop(columns=['Country','Income'])\n",
    "clean_df.head()"
   ]
  },
  {
   "cell_type": "markdown",
   "id": "90f5f8df",
   "metadata": {},
   "source": [
    "Since we restrict to germany we can drop the Country and Income."
   ]
  },
  {
   "cell_type": "code",
   "execution_count": 69,
   "id": "5bf18d62",
   "metadata": {},
   "outputs": [
    {
     "data": {
      "text/html": [
       "<div>\n",
       "<style scoped>\n",
       "    .dataframe tbody tr th:only-of-type {\n",
       "        vertical-align: middle;\n",
       "    }\n",
       "\n",
       "    .dataframe tbody tr th {\n",
       "        vertical-align: top;\n",
       "    }\n",
       "\n",
       "    .dataframe thead th {\n",
       "        text-align: right;\n",
       "    }\n",
       "</style>\n",
       "<table border=\"1\" class=\"dataframe\">\n",
       "  <thead>\n",
       "    <tr style=\"text-align: right;\">\n",
       "      <th></th>\n",
       "      <th>Year</th>\n",
       "      <th>Gdp_Capita</th>\n",
       "      <th>Income_Category</th>\n",
       "      <th>Sex_0</th>\n",
       "      <th>Sex_1</th>\n",
       "      <th>Age_-1</th>\n",
       "      <th>Age_0</th>\n",
       "      <th>Isced11_0</th>\n",
       "      <th>Isced11_1</th>\n",
       "      <th>Isced11_2</th>\n",
       "    </tr>\n",
       "  </thead>\n",
       "  <tbody>\n",
       "    <tr>\n",
       "      <th>40</th>\n",
       "      <td>2016</td>\n",
       "      <td>45085.649246</td>\n",
       "      <td>Low</td>\n",
       "      <td>True</td>\n",
       "      <td>False</td>\n",
       "      <td>False</td>\n",
       "      <td>True</td>\n",
       "      <td>True</td>\n",
       "      <td>False</td>\n",
       "      <td>False</td>\n",
       "    </tr>\n",
       "    <tr>\n",
       "      <th>41</th>\n",
       "      <td>2017</td>\n",
       "      <td>47778.270414</td>\n",
       "      <td>Low</td>\n",
       "      <td>True</td>\n",
       "      <td>False</td>\n",
       "      <td>False</td>\n",
       "      <td>True</td>\n",
       "      <td>True</td>\n",
       "      <td>False</td>\n",
       "      <td>False</td>\n",
       "    </tr>\n",
       "    <tr>\n",
       "      <th>42</th>\n",
       "      <td>2018</td>\n",
       "      <td>51295.027769</td>\n",
       "      <td>Low</td>\n",
       "      <td>True</td>\n",
       "      <td>False</td>\n",
       "      <td>False</td>\n",
       "      <td>True</td>\n",
       "      <td>True</td>\n",
       "      <td>False</td>\n",
       "      <td>False</td>\n",
       "    </tr>\n",
       "    <tr>\n",
       "      <th>43</th>\n",
       "      <td>2019</td>\n",
       "      <td>50081.498124</td>\n",
       "      <td>Low</td>\n",
       "      <td>True</td>\n",
       "      <td>False</td>\n",
       "      <td>False</td>\n",
       "      <td>True</td>\n",
       "      <td>True</td>\n",
       "      <td>False</td>\n",
       "      <td>False</td>\n",
       "    </tr>\n",
       "    <tr>\n",
       "      <th>44</th>\n",
       "      <td>2020</td>\n",
       "      <td>50021.939564</td>\n",
       "      <td>Medium</td>\n",
       "      <td>True</td>\n",
       "      <td>False</td>\n",
       "      <td>False</td>\n",
       "      <td>True</td>\n",
       "      <td>True</td>\n",
       "      <td>False</td>\n",
       "      <td>False</td>\n",
       "    </tr>\n",
       "  </tbody>\n",
       "</table>\n",
       "</div>"
      ],
      "text/plain": [
       "    Year    Gdp_Capita Income_Category  Sex_0  Sex_1  Age_-1  Age_0  \\\n",
       "40  2016  45085.649246             Low   True  False   False   True   \n",
       "41  2017  47778.270414             Low   True  False   False   True   \n",
       "42  2018  51295.027769             Low   True  False   False   True   \n",
       "43  2019  50081.498124             Low   True  False   False   True   \n",
       "44  2020  50021.939564          Medium   True  False   False   True   \n",
       "\n",
       "    Isced11_0  Isced11_1  Isced11_2  \n",
       "40       True      False      False  \n",
       "41       True      False      False  \n",
       "42       True      False      False  \n",
       "43       True      False      False  \n",
       "44       True      False      False  "
      ]
     },
     "execution_count": 69,
     "metadata": {},
     "output_type": "execute_result"
    }
   ],
   "source": [
    "clean_df_encoded = pd.get_dummies(clean_df, columns=['Sex', 'Age','Isced11'])\n",
    "clean_df_encoded.head()"
   ]
  },
  {
   "cell_type": "code",
   "execution_count": 70,
   "id": "ab072e88",
   "metadata": {},
   "outputs": [
    {
     "name": "stdout",
     "output_type": "stream",
     "text": [
      "      Year    Gdp_Capita  Sex_0  Sex_1  Age_-1  Age_0  Isced11_0  Isced11_1  \\\n",
      "40    2016  45085.649246   True  False   False   True       True      False   \n",
      "41    2017  47778.270414   True  False   False   True       True      False   \n",
      "42    2018  51295.027769   True  False   False   True       True      False   \n",
      "43    2019  50081.498124   True  False   False   True       True      False   \n",
      "44    2020  50021.939564   True  False   False   True       True      False   \n",
      "...    ...           ...    ...    ...     ...    ...        ...        ...   \n",
      "2419  2019  50081.498124  False   True    True  False      False      False   \n",
      "2420  2020  50021.939564  False   True    True  False      False      False   \n",
      "2421  2021  55026.622891  False   True    True  False      False      False   \n",
      "2422  2022  52128.250520  False   True    True  False      False      False   \n",
      "2423  2023  56496.000000  False   True    True  False      False      False   \n",
      "\n",
      "      Isced11_2  \n",
      "40        False  \n",
      "41        False  \n",
      "42        False  \n",
      "43        False  \n",
      "44        False  \n",
      "...         ...  \n",
      "2419       True  \n",
      "2420       True  \n",
      "2421       True  \n",
      "2422       True  \n",
      "2423       True  \n",
      "\n",
      "[96 rows x 9 columns]\n"
     ]
    }
   ],
   "source": [
    "all_columns_indices = list(range(clean_df_encoded.shape[1]))\n",
    "# Index of column 'Income Category' is 2 \n",
    "column_to_exclude_index = 2\n",
    "# Remove the index for column 'C'\n",
    "selected_columns_indices = [i for i in all_columns_indices if i != column_to_exclude_index]\n",
    "X = clean_df_encoded.iloc[:,selected_columns_indices]\n",
    "y = clean_df_encoded.iloc[:,2]\n",
    "# Split data\n",
    "print(X)"
   ]
  },
  {
   "cell_type": "code",
   "execution_count": 71,
   "id": "5a5dd43d",
   "metadata": {},
   "outputs": [],
   "source": [
    "X_train, X_test, y_train, y_test = train_test_split(X, y, test_size=0.2, random_state=42)"
   ]
  },
  {
   "cell_type": "code",
   "execution_count": 75,
   "id": "e5b7fe2f",
   "metadata": {},
   "outputs": [],
   "source": [
    "from sklearn.ensemble import RandomForestClassifier\n",
    "from sklearn.metrics import classification_report, accuracy_score\n",
    "from sklearn.metrics import confusion_matrix\n",
    "\n",
    "clf = RandomForestClassifier(n_estimators=100, random_state=42)\n",
    "clf.fit(X_train, y_train)\n",
    "y_pred = clf.predict(X_test)"
   ]
  },
  {
   "cell_type": "code",
   "execution_count": 76,
   "id": "88443b85",
   "metadata": {},
   "outputs": [
    {
     "name": "stdout",
     "output_type": "stream",
     "text": [
      "Accuracy: 0.9\n",
      "Classification Report:\n",
      "               precision    recall  f1-score   support\n",
      "\n",
      "        High       1.00      1.00      1.00         8\n",
      "         Low       0.78      1.00      0.88         7\n",
      "      Medium       1.00      0.60      0.75         5\n",
      "\n",
      "    accuracy                           0.90        20\n",
      "   macro avg       0.93      0.87      0.88        20\n",
      "weighted avg       0.92      0.90      0.89        20\n",
      "\n"
     ]
    }
   ],
   "source": [
    "print(\"Accuracy:\", accuracy_score(y_test, y_pred))\n",
    "print(\"Classification Report:\\n\", classification_report(y_test, y_pred))\n"
   ]
  },
  {
   "cell_type": "code",
   "execution_count": 99,
   "id": "86772007",
   "metadata": {},
   "outputs": [
    {
     "data": {
      "image/png": "[encoded data removed]",
      "text/plain": [
       "<Figure size 640x480 with 2 Axes>"
      ]
     },
     "metadata": {},
     "output_type": "display_data"
    },
    {
     "data": {
      "image/png": "[encoded data removed]",
      "text/plain": [
       "<Figure size 640x480 with 2 Axes>"
      ]
     },
     "metadata": {},
     "output_type": "display_data"
    }
   ],
   "source": [
    "from sklearn.metrics import ConfusionMatrixDisplay\n",
    "disp = ConfusionMatrixDisplay.from_predictions(y_test, y_pred) \n",
    "# Then just plot it: \n",
    "disp.plot() \n",
    "# And show it: \n",
    "plt.show()"
   ]
  },
  {
   "cell_type": "code",
   "execution_count": 97,
   "id": "b7bbfac9",
   "metadata": {},
   "outputs": [],
   "source": [
    "sample_weight = (y_test != y_pred)"
   ]
  },
  {
   "cell_type": "code",
   "execution_count": 98,
   "id": "3e05c657",
   "metadata": {},
   "outputs": [
    {
     "data": {
      "image/png": "[encoded data removed]",
      "text/plain": [
       "<Figure size 640x480 with 2 Axes>"
      ]
     },
     "metadata": {},
     "output_type": "display_data"
    },
    {
     "data": {
      "image/png": "[encoded data removed]",
      "text/plain": [
       "<Figure size 640x480 with 2 Axes>"
      ]
     },
     "metadata": {},
     "output_type": "display_data"
    }
   ],
   "source": [
    "disp = ConfusionMatrixDisplay.from_predictions(y_test, y_pred, sample_weight=sample_weight, normalize='true', values_format='.0%') \n",
    "# Then just plot it: \n",
    "disp.plot() \n",
    "# And show it: \n",
    "plt.show()"
   ]
  },
  {
   "cell_type": "markdown",
   "id": "085824f4",
   "metadata": {},
   "source": [
    "## Tuning hyperparamters and see if it works better."
   ]
  },
  {
   "cell_type": "code",
   "execution_count": null,
   "id": "6c38ad33",
   "metadata": {},
   "outputs": [],
   "source": [
    "# Create the base model to tune\n",
    "param_grid = {\n",
    "    'n_estimators': [100, 125, 200],  # Number of trees in the forest\n",
    "    'max_features':  [2, 5, 6, 8],  # Number of features to consider at every split\n",
    "    'max_depth':[None, 10, 20, 30],  # Maximum number of levels in tree\n",
    "    'min_samples_split': [2, 5, 10],  # Minimum number of samples required to split a node\n",
    "    'min_samples_leaf': [1, 2, 4]  # Minimum number of samples required at each leaf node\n",
    "}\n",
    "# Set up the GridSearchCV object\n",
    "grid_search = GridSearchCV(estimator=clf, param_grid=param_grid, cv=3, verbose=2, n_jobs=-1)\n",
    "grid_search.fit(X_train, y_train)\n",
    "best_rf = grid_search.best_estimator_\n",
    "print(\"Best parameters:\", grid_search.best_params_)\n"
   ]
  },
  {
   "cell_type": "code",
   "execution_count": null,
   "id": "522d82c0",
   "metadata": {},
   "outputs": [],
   "source": []
  }
 ],
 "metadata": {
  "kernelspec": {
   "display_name": "Python 3 (ipykernel)",
   "language": "python",
   "name": "python3"
  },
  "language_info": {
   "codemirror_mode": {
    "name": "ipython",
    "version": 3
   },
   "file_extension": ".py",
   "mimetype": "text/x-python",
   "name": "python",
   "nbconvert_exporter": "python",
   "pygments_lexer": "ipython3",
   "version": "3.11.5"
  }
 },
 "nbformat": 4,
 "nbformat_minor": 5
}
